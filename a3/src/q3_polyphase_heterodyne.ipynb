{
 "cells": [
  {
   "cell_type": "markdown",
   "metadata": {},
   "source": [
    "# Question 3\n",
    "\n",
    "This script demonstrates heterodyning as part of a polyphase interpolator."
   ]
  },
  {
   "cell_type": "code",
   "execution_count": null,
   "metadata": {},
   "outputs": [],
   "source": [
    "from pathlib import Path\n",
    "\n",
    "import numpy as np\n",
    "import scipy.fft as fft\n",
    "import scipy.signal as signal\n",
    "\n",
    "import matplotlib.pyplot as plt\n",
    "import seaborn as sns\n",
    "\n",
    "from a3_config import A3_ROOT, SAVEFIG_CONFIG"
   ]
  },
  {
   "cell_type": "markdown",
   "metadata": {},
   "source": [
    "### Polyphase Upsample & Heterodyne"
   ]
  },
  {
   "cell_type": "code",
   "execution_count": null,
   "metadata": {},
   "outputs": [],
   "source": [
    "# Import polyphase downsampled signal from Question 1\n",
    "t_signal, x_signal = np.load(Path(A3_ROOT, \"output\", \"q1_signal_out.npy\"))\n",
    "\n",
    "# Import Kaiser LPF from Question 1\n",
    "x_kaiser_lpf = np.load(Path(A3_ROOT, \"output\", \"q1_kaiser_lpf.npy\"))"
   ]
  },
  {
   "cell_type": "code",
   "execution_count": null,
   "metadata": {},
   "outputs": [],
   "source": [
    "N = len(x_kaiser_lpf)   # filter length\n",
    "L = 80                  # upsampling rate, equal to M from Question 1\n",
    "FS = 0.5                # sampling frequency, kHz\n",
    "F_CARRIER = 10          # frequency shift, kHz\n",
    "\n",
    "# Reshape filter coefficients into matrix, zero padded to multiple of L\n",
    "Z = L - (N % L)\n",
    "polyfilt = np.concatenate([x_kaiser_lpf, np.zeros(Z)])\n",
    "polyfilt = polyfilt.reshape(int((N + Z) / L), L).T  # reshape row-major then transpose\n",
    "\n",
    "# Apply heterodyning (frequency shifting) w/ 10 kHz carrier\n",
    "k = F_CARRIER / FS\n",
    "for i in range(L):\n",
    "    polyfilt[i] *= np.cos(2 * np.pi * i * k / L)"
   ]
  },
  {
   "cell_type": "code",
   "execution_count": null,
   "metadata": {},
   "outputs": [],
   "source": [
    "# Concatenate results into output array, which becomes the filtered signal\n",
    "x_polyfilt = []\n",
    "for i in range(L):\n",
    "    x_polyfilt.append(signal.convolve(polyfilt[i], x_signal))\n",
    "x_polyfilt = np.array(x_polyfilt).flatten(\"F\")\n",
    "\n",
    "# As before, remove transient edge effects\n",
    "x_polyfilt = x_polyfilt[(N+Z-L)//2:-(N+Z-L)//2]\n",
    "\n",
    "# Plot the polyphase downsampled signal\n",
    "h_polyfilt = fft.fft(x_polyfilt, 8192)[:4096]\n",
    "\n",
    "t_polyfilt = np.arange(0, 50, 50 / len(x_polyfilt))\n",
    "f_polyfilt = fft.fftfreq(8192, 50 / len(x_polyfilt))[:4096]\n",
    "\n",
    "fig, axs = plt.subplots(2, figsize=(6, 3))\n",
    "fig.tight_layout()\n",
    "\n",
    "sns.lineplot(x=t_polyfilt, y=x_polyfilt.real, ax=axs[0])\n",
    "sns.lineplot(x=f_polyfilt, y=np.abs(h_polyfilt), ax=axs[1])\n",
    "\n",
    "axs[0].set_xlabel(\"Time (ms)\")\n",
    "axs[1].set_xlabel(\"Frequency (kHz)\")\n",
    "axs[1].set_xlim([8.685, 11.315])\n",
    "\n",
    "# fname = Path(A3_ROOT, \"output\", \"q3_heterodyne.png\")\n",
    "# fig.savefig(fname, **SAVEFIG_CONFIG)\n",
    "plt.show()"
   ]
  },
  {
   "cell_type": "markdown",
   "metadata": {},
   "source": [
    "### Timing Comparison\n",
    "\n",
    "We time this also, comparing to polyphase interpolation without heterodyning from Question 2."
   ]
  },
  {
   "cell_type": "code",
   "execution_count": null,
   "metadata": {},
   "outputs": [],
   "source": [
    "import time\n",
    "from tqdm import trange\n",
    "\n",
    "N_TRIALS = 10000\n",
    "start = time.time()\n",
    "\n",
    "for _ in trange(N_TRIALS):\n",
    "    x_polyfilt = []\n",
    "    for i in range(L):\n",
    "        x_polyfilt.append(signal.convolve(polyfilt[i], x_signal))\n",
    "    x_polyfilt = np.array(x_polyfilt).flatten(\"F\")\n",
    "\n",
    "elapsed = time.time() - start\n",
    "print(f\"Polyphase interpolator w/ heterodyning ({N_TRIALS} trials): {elapsed*1000/N_TRIALS:.5f} ms\")"
   ]
  }
 ],
 "metadata": {
  "kernelspec": {
   "display_name": ".venv",
   "language": "python",
   "name": "python3"
  },
  "language_info": {
   "codemirror_mode": {
    "name": "ipython",
    "version": 3
   },
   "file_extension": ".py",
   "mimetype": "text/x-python",
   "name": "python",
   "nbconvert_exporter": "python",
   "pygments_lexer": "ipython3",
   "version": "3.11.1"
  },
  "orig_nbformat": 4
 },
 "nbformat": 4,
 "nbformat_minor": 2
}
