{
 "cells": [
  {
   "cell_type": "markdown",
   "metadata": {},
   "source": [
    "# Question 4\n",
    "\n",
    "This script applies the Euclidean algorithm to determine the GCD of two large numbers, then finds a pair of large numbers whose GCD is 71.\n",
    "\n",
    "### Euclidean Algorithm"
   ]
  },
  {
   "cell_type": "code",
   "execution_count": null,
   "metadata": {},
   "outputs": [],
   "source": [
    "def GCD(a, b, verbose=True):\n",
    "    # Handle case where a or b (or both) is zero: GCD(0, x) = GCD(x, 0) = 0\n",
    "    if a == 0 or b == 0:\n",
    "        return a if (a != 0) else b\n",
    "    # Order such that a > b\n",
    "    a, b = (b, a) if (b > a) else (a, b)\n",
    "    # Euclidean algorithm\n",
    "    while b != 0:\n",
    "        x, r = a // b, a % b\n",
    "        if verbose:\n",
    "            print(f\"GCD({a}, {b}): {a} = {b} * {x} + {r}\")\n",
    "        a, b = b, r\n",
    "    return a\n",
    "\n",
    "print(f\"\\n{GCD(313451351, 513454536) = }\")"
   ]
  },
  {
   "cell_type": "markdown",
   "metadata": {},
   "source": [
    "### GCD Reverse"
   ]
  },
  {
   "cell_type": "code",
   "execution_count": null,
   "metadata": {},
   "outputs": [],
   "source": [
    "import math\n",
    "\n",
    "# Multiply a and b by different prime numbers until both have length > 10 digits\n",
    "base = 71; a = base; b = base # NOTE: 71 is prime\n",
    "while math.log10(a) < 9:\n",
    "    a *= 17\n",
    "while math.log10(b) < 9:\n",
    "    b *= 19\n",
    "print(a, b)"
   ]
  },
  {
   "cell_type": "code",
   "execution_count": null,
   "metadata": {},
   "outputs": [],
   "source": [
    "# Confirm GCD(a, b) = 71\n",
    "print(f\"\\n{GCD(a, b) = }\")"
   ]
  }
 ],
 "metadata": {
  "kernelspec": {
   "display_name": ".venv",
   "language": "python",
   "name": "python3"
  },
  "language_info": {
   "codemirror_mode": {
    "name": "ipython",
    "version": 3
   },
   "file_extension": ".py",
   "mimetype": "text/x-python",
   "name": "python",
   "nbconvert_exporter": "python",
   "pygments_lexer": "ipython3",
   "version": "3.11.1"
  },
  "orig_nbformat": 4
 },
 "nbformat": 4,
 "nbformat_minor": 2
}
