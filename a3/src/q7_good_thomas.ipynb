{
 "cells": [
  {
   "cell_type": "markdown",
   "metadata": {},
   "source": [
    "# Question 7\n",
    "\n",
    "This script implements the Good-Thomas (Prime Factor) FFT algorithm and compares its performance to the Cooley-Tukey algorithm from Question 6."
   ]
  },
  {
   "cell_type": "code",
   "execution_count": 1,
   "metadata": {},
   "outputs": [],
   "source": [
    "from pathlib import Path\n",
    "\n",
    "import numpy as np\n",
    "import scipy.fft as fft\n",
    "\n",
    "import matplotlib.pyplot as plt\n",
    "import seaborn as sns\n",
    "\n",
    "from a3_config import A3_ROOT, SAVEFIG_CONFIG"
   ]
  },
  {
   "cell_type": "code",
   "execution_count": 8,
   "metadata": {},
   "outputs": [],
   "source": [
    "# Import signal from Question 6\n",
    "x_signal = np.load(Path(A3_ROOT, \"output\", \"q6_signal_out.npy\"))"
   ]
  },
  {
   "cell_type": "markdown",
   "metadata": {},
   "source": [
    "### Good-Thomas FFT"
   ]
  },
  {
   "cell_type": "code",
   "execution_count": 9,
   "metadata": {},
   "outputs": [
    {
     "data": {
      "image/png": "[encoded data removed]",
      "text/plain": [
       "<Figure size 600x150 with 1 Axes>"
      ]
     },
     "metadata": {},
     "output_type": "display_data"
    }
   ],
   "source": [
    "from typing import Any\n",
    "\n",
    "def good_thomas(x: Any, radix: int = 3) -> Any:\n",
    "    \"\"\"Compute the 1-D discrete Fourier transform using the Good-Thomas FFT.\"\"\"\n",
    "    if (n := len(x)) % radix != 0:\n",
    "        raise ValueError(f'input length must be multiple of radix')\n",
    "    n_rows = radix\n",
    "    n_cols = int(n / radix)\n",
    "    # Define DFT operation\n",
    "    X = lambda x, k, n: sum(x[i] * np.exp(-2 * np.pi * 1j * i * k / n) for i in range(n))\n",
    "    # Load input into matrix along extended diagonal\n",
    "    x_mat = np.empty((n_rows, n_cols), dtype=np.complex128)\n",
    "    for p in range(n):\n",
    "        x_mat[p % n_rows, p % n_cols] = x[p]\n",
    "    # 2D transform\n",
    "    x_dft = np.array([[X(x_mat[:, j], k, n_rows) for k in range(n_rows)] for j in range(n_cols)]).T\n",
    "    x_dft = np.array([[X(x_dft[i, :], k, n_cols) for k in range(n_cols)] for i in range(n_rows)])\n",
    "    # Reorganise matrix back into vector\n",
    "    x_out = np.empty(n, dtype=np.complex128)\n",
    "    for i in range(n_rows):\n",
    "        for j in range(n_cols):\n",
    "            x_out[(i * n_cols + j * n_rows) % n] = x_dft[i, j]\n",
    "\n",
    "    return x_out\n",
    "\n",
    "h_signal = good_thomas(x_signal, radix=3)[:7]\n",
    "f_signal = fft.fftfreq(15, 1/15)[:7]\n",
    "\n",
    "# Plot signal and its DFT\n",
    "fig, ax = plt.subplots(figsize=(6, 1.5))\n",
    "fig.tight_layout()\n",
    "\n",
    "sns.lineplot(x=f_signal, y=np.abs(h_signal), ax=ax)\n",
    "ax.set_xlabel(\"Frequency (Hz)\")\n",
    "\n",
    "# fname = Path(A3_ROOT, \"output\", \"q7_good_thomas.png\")\n",
    "# fig.savefig(fname, **SAVEFIG_CONFIG)\n",
    "plt.show()"
   ]
  },
  {
   "cell_type": "markdown",
   "metadata": {},
   "source": [
    "### Performance Comparison"
   ]
  },
  {
   "cell_type": "code",
   "execution_count": 10,
   "metadata": {},
   "outputs": [
    {
     "name": "stderr",
     "output_type": "stream",
     "text": [
      "100%|██████████| 10000/10000 [00:02<00:00, 4465.46it/s]"
     ]
    },
    {
     "name": "stdout",
     "output_type": "stream",
     "text": [
      "Good-Thomas FFT (10000 trials): 0.22478 ms\n"
     ]
    },
    {
     "name": "stderr",
     "output_type": "stream",
     "text": [
      "\n"
     ]
    }
   ],
   "source": [
    "import time\n",
    "from tqdm import trange\n",
    "\n",
    "N_TRIALS = 10000\n",
    "\n",
    "time_start = time.time()\n",
    "for _ in trange(N_TRIALS):\n",
    "    h_signal = good_thomas(x_signal, radix=3)\n",
    "\n",
    "time_elapsed = time.time() - time_start\n",
    "print(f'Good-Thomas FFT ({N_TRIALS} trials): {time_elapsed * 1000 / N_TRIALS:.5f} ms')"
   ]
  }
 ],
 "metadata": {
  "kernelspec": {
   "display_name": ".venv",
   "language": "python",
   "name": "python3"
  },
  "language_info": {
   "codemirror_mode": {
    "name": "ipython",
    "version": 3
   },
   "file_extension": ".py",
   "mimetype": "text/x-python",
   "name": "python",
   "nbconvert_exporter": "python",
   "pygments_lexer": "ipython3",
   "version": "3.11.1"
  }
 },
 "nbformat": 4,
 "nbformat_minor": 2
}
