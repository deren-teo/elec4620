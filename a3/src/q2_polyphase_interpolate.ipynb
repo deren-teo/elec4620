{
 "cells": [
  {
   "cell_type": "markdown",
   "metadata": {},
   "source": [
    "# Question 2\n",
    "\n",
    "This script compares the approaches of upsampling then filtering versus applying a polyphase interpolator."
   ]
  },
  {
   "cell_type": "code",
   "execution_count": null,
   "metadata": {},
   "outputs": [],
   "source": [
    "from pathlib import Path\n",
    "\n",
    "import numpy as np\n",
    "import scipy.fft as fft\n",
    "import scipy.signal as signal\n",
    "\n",
    "import matplotlib.pyplot as plt\n",
    "import seaborn as sns\n",
    "\n",
    "from a3_config import A3_ROOT, SAVEFIG_CONFIG"
   ]
  },
  {
   "cell_type": "markdown",
   "metadata": {},
   "source": [
    "### Upsample (Zero-Pack)"
   ]
  },
  {
   "cell_type": "code",
   "execution_count": null,
   "metadata": {},
   "outputs": [],
   "source": [
    "# Import polyphase downsampled signal from Question 1\n",
    "t_signal, x_signal = np.load(Path(A3_ROOT, \"output\", \"q1_signal_out.npy\"))\n",
    "\n",
    "# Import Kaiser LPF from Question 1\n",
    "x_kaiser_lpf = np.load(Path(A3_ROOT, \"output\", \"q1_kaiser_lpf.npy\"))"
   ]
  },
  {
   "cell_type": "code",
   "execution_count": null,
   "metadata": {},
   "outputs": [],
   "source": [
    "L = 80      # upsampling rate, equal to M from Question 1\n",
    "FS = 0.5    # sampling frequency, kHz\n",
    "\n",
    "x_zpack = np.concatenate([[x]+[0]*(L-1) for x in x_signal])\n",
    "h_zpack = fft.fft(x_zpack, 8192)[:4096]\n",
    "\n",
    "t_zpack = np.arange(0, 50, 1 / (FS * L))\n",
    "f_zpack = fft.fftfreq(8192, 1 / (FS * L))[:4096]\n",
    "\n",
    "fig, axs = plt.subplots(2, figsize=(6, 3))\n",
    "fig.tight_layout()\n",
    "\n",
    "sns.lineplot(x=t_zpack, y=x_zpack.real, ax=axs[0])\n",
    "sns.lineplot(x=f_zpack, y=np.abs(h_zpack), ax=axs[1])\n",
    "\n",
    "axs[0].set_xlabel(\"Time (ms)\")\n",
    "axs[1].set_xlabel(\"Frequency (kHz)\")\n",
    "axs[1].set_xlim([-0.13, 2.63])\n",
    "\n",
    "# fname = Path(A3_ROOT, \"output\", \"q2_zpack.png\")\n",
    "# fig.savefig(fname, **SAVEFIG_CONFIG)\n",
    "plt.show()"
   ]
  },
  {
   "cell_type": "code",
   "execution_count": null,
   "metadata": {},
   "outputs": [],
   "source": [
    "# Apply filter to signal, removing transient edge effects\n",
    "N = len(x_kaiser_lpf)\n",
    "x_filt = signal.convolve(x_kaiser_lpf, x_zpack)[N//2:-(N//2-1)]\n",
    "h_filt = fft.fft(x_filt, 8192)[:4096]\n",
    "\n",
    "fig, axs = plt.subplots(2, figsize=(6, 3))\n",
    "fig.tight_layout()\n",
    "\n",
    "sns.lineplot(x=t_zpack, y=x_filt.real, ax=axs[0])\n",
    "sns.lineplot(x=f_zpack, y=np.abs(h_filt), ax=axs[1])\n",
    "\n",
    "axs[0].set_xlabel(\"Time (ms)\")\n",
    "axs[1].set_xlabel(\"Frequency (kHz)\")\n",
    "axs[1].set_xlim([-0.13, 2.63])\n",
    "\n",
    "# fname = Path(A3_ROOT, \"output\", \"q2_usamp.png\")\n",
    "# fig.savefig(fname, **SAVEFIG_CONFIG)\n",
    "plt.show()"
   ]
  },
  {
   "cell_type": "markdown",
   "metadata": {},
   "source": [
    "### Polyphase Upsample"
   ]
  },
  {
   "cell_type": "code",
   "execution_count": null,
   "metadata": {},
   "outputs": [],
   "source": [
    "# Reshape filter coefficients into matrix, zero padded to multiple of L\n",
    "k = L - (N % L)\n",
    "polyfilt = np.concatenate([x_kaiser_lpf, np.zeros(k)])\n",
    "polyfilt = polyfilt.reshape(int((N + k) / L), L).T  # reshape row-major then transpose"
   ]
  },
  {
   "cell_type": "code",
   "execution_count": null,
   "metadata": {},
   "outputs": [],
   "source": [
    "# Concatenate results into output array, which becomes the filtered signal\n",
    "x_polyfilt = []\n",
    "for i in range(L):\n",
    "    x_polyfilt.append(signal.convolve(polyfilt[i], x_signal))\n",
    "x_polyfilt = np.array(x_polyfilt).flatten(\"F\")\n",
    "\n",
    "# As before, remove transient edge effects\n",
    "x_polyfilt = x_polyfilt[(N+k-L)//2:-(N+k-L)//2]\n",
    "\n",
    "# Plot the polyphase downsampled signal\n",
    "h_polyfilt = fft.fft(x_polyfilt, 8192)[:4096]\n",
    "\n",
    "t_polyfilt = np.arange(0, 50, 50 / len(x_polyfilt))\n",
    "f_polyfilt = fft.fftfreq(8192, 50 / len(x_polyfilt))[:4096]\n",
    "\n",
    "fig, axs = plt.subplots(2, figsize=(6, 3))\n",
    "fig.tight_layout()\n",
    "\n",
    "sns.lineplot(x=t_polyfilt, y=x_polyfilt.real, ax=axs[0])\n",
    "sns.lineplot(x=f_polyfilt, y=np.abs(h_polyfilt), ax=axs[1])\n",
    "\n",
    "axs[0].set_xlabel(\"Time (ms)\")\n",
    "axs[1].set_xlabel(\"Frequency (kHz)\")\n",
    "axs[1].set_xlim([-0.13, 2.63])\n",
    "\n",
    "# fname = Path(A3_ROOT, \"output\", \"q2_polyinterpolate.png\")\n",
    "# fig.savefig(fname, **SAVEFIG_CONFIG)\n",
    "plt.show()"
   ]
  },
  {
   "cell_type": "markdown",
   "metadata": {},
   "source": [
    "### Timing Comparison\n",
    "\n",
    "We stage a timing comparison between the two methods: upsampling then filtering versus polyphase interpolation."
   ]
  },
  {
   "cell_type": "code",
   "execution_count": null,
   "metadata": {},
   "outputs": [],
   "source": [
    "import time\n",
    "from tqdm import trange\n",
    "\n",
    "N_TRIALS = 10000\n",
    "start = time.time()\n",
    "\n",
    "for _ in trange(N_TRIALS):\n",
    "    x_zpack = np.concatenate([[x]+[0]*(L-1) for x in x_signal])\n",
    "    x_filt = signal.convolve(x_windowed, x_zpack)\n",
    "\n",
    "elapsed = time.time() - start\n",
    "print(f\"Upsample then filter ({N_TRIALS} trials): {elapsed*1000/N_TRIALS:.5f} ms\")"
   ]
  },
  {
   "cell_type": "code",
   "execution_count": null,
   "metadata": {},
   "outputs": [],
   "source": [
    "start = time.time()\n",
    "\n",
    "for _ in trange(N_TRIALS):\n",
    "    x_polyfilt = []\n",
    "    for i in range(L):\n",
    "        x_polyfilt.append(signal.convolve(polyfilt[i], x_signal))\n",
    "    x_polyfilt = np.array(x_polyfilt).flatten(\"F\")\n",
    "\n",
    "elapsed = time.time() - start\n",
    "print(f\"Polyphase interpolator ({N_TRIALS} trials): {elapsed*1000/N_TRIALS:.5f} ms\")"
   ]
  }
 ],
 "metadata": {
  "kernelspec": {
   "display_name": ".venv",
   "language": "python",
   "name": "python3"
  },
  "language_info": {
   "codemirror_mode": {
    "name": "ipython",
    "version": 3
   },
   "file_extension": ".py",
   "mimetype": "text/x-python",
   "name": "python",
   "nbconvert_exporter": "python",
   "pygments_lexer": "ipython3",
   "version": "3.11.1"
  },
  "orig_nbformat": 4
 },
 "nbformat": 4,
 "nbformat_minor": 2
}
