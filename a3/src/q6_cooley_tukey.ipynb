{
 "cells": [
  {
   "cell_type": "markdown",
   "metadata": {},
   "source": [
    "# Question 6\n",
    "\n",
    "This script implements both a vanilla DFT and a 15-point Cooley-Tukey FFT from scratch and compares their performance."
   ]
  },
  {
   "cell_type": "code",
   "execution_count": null,
   "metadata": {},
   "outputs": [],
   "source": [
    "from pathlib import Path\n",
    "\n",
    "import numpy as np\n",
    "import scipy.fft as fft\n",
    "\n",
    "import matplotlib.pyplot as plt\n",
    "import seaborn as sns\n",
    "\n",
    "from a3_config import A3_ROOT, SAVEFIG_CONFIG"
   ]
  },
  {
   "cell_type": "markdown",
   "metadata": {},
   "source": [
    "### Construct Signal"
   ]
  },
  {
   "cell_type": "code",
   "execution_count": null,
   "metadata": {},
   "outputs": [],
   "source": [
    "import random; random.seed(24)\n",
    "\n",
    "x_signal = np.array([2 * (random.random() - 0.5) for _ in range(15)])\n",
    "h_sigref = fft.fft(x_signal)[:7]\n",
    "\n",
    "t_signal = np.arange(0, 1, 1/15)\n",
    "f_signal = fft.fftfreq(15, 1/15)[:7]"
   ]
  },
  {
   "cell_type": "code",
   "execution_count": null,
   "metadata": {},
   "outputs": [],
   "source": [
    "# Export the signal for Question 7\n",
    "fname = Path(A3_ROOT, \"output\", \"q6_signal_out.npy\")\n",
    "np.save(fname, x_signal)"
   ]
  },
  {
   "cell_type": "markdown",
   "metadata": {},
   "source": [
    "### Vanilla DFT"
   ]
  },
  {
   "cell_type": "code",
   "execution_count": null,
   "metadata": {},
   "outputs": [],
   "source": [
    "from typing import Any\n",
    "\n",
    "def dft(x: Any, n: Any = None) -> Any:\n",
    "    \"\"\"Compute the 1-D discrete Fourier transform.\"\"\"\n",
    "    n = n or len(x)\n",
    "    X = lambda k: sum(x[i] * np.exp(-2 * np.pi * 1j * i * k / n) for i in range(n))\n",
    "    return np.array([X(k) for k in range(n)])\n",
    "\n",
    "h_sigdft = dft(x_signal)[:7]"
   ]
  },
  {
   "cell_type": "markdown",
   "metadata": {},
   "source": [
    "### Cooley-Tukey FFT"
   ]
  },
  {
   "cell_type": "code",
   "execution_count": null,
   "metadata": {},
   "outputs": [],
   "source": [
    "def cooley_tukey(x: Any, radix: int = 3) -> Any:\n",
    "    \"\"\"Compute the 1-D discrete Fourier transform using the Cooley-Tukey FFT.\"\"\"\n",
    "    if (n := len(x)) % radix != 0:\n",
    "        raise ValueError(f'input length must be multiple of radix')\n",
    "    n_rows = radix\n",
    "    n_cols = int(n / radix)\n",
    "    # Define DFT operation\n",
    "    X = lambda x, k, n: sum(x[i] * np.exp(-2 * np.pi * 1j * i * k / n) for i in range(n))\n",
    "    # Reshape into matrix in row-major order\n",
    "    x = x.reshape(radix, n_cols)\n",
    "    # Transform columns\n",
    "    x = np.array([[X(x[:, j], k, n_rows) for k in range(n_rows)] for j in range(n_cols)]).T\n",
    "    # Apply twiddle factors\n",
    "    for j in range(n_cols):\n",
    "        for i in range(n_rows):\n",
    "            x[i, j] *= np.exp(-1j * 2 * np.pi * i * j / n)\n",
    "    # Transform rows\n",
    "    x = np.array([[X(x[i, :], k, n_cols) for k in range(n_cols)] for i in range(n_rows)])\n",
    "    # Reshape back into vector in column-major order\n",
    "    return x.T.reshape(n)\n",
    "\n",
    "h_sigfft = cooley_tukey(x_signal, radix=3)[:7]"
   ]
  },
  {
   "cell_type": "code",
   "execution_count": null,
   "metadata": {},
   "outputs": [],
   "source": [
    "sns.set_palette(sns.color_palette('mako', n_colors=3))\n",
    "\n",
    "# Plot signal and its DFT\n",
    "fig, axs = plt.subplots(1, 2, figsize=(7.5, 1.5))\n",
    "\n",
    "sns.lineplot(x=t_signal, y=x_signal, ax=axs[0])\n",
    "sns.lineplot(x=f_signal, y=np.abs(h_sigref), ax=axs[1], lw=1, label=r'\\texttt{scipy.fft}')\n",
    "sns.lineplot(x=f_signal, y=np.abs(h_sigdft), ax=axs[1], lw=1, label='Direct DFT')\n",
    "sns.lineplot(x=f_signal, y=np.abs(h_sigfft), ax=axs[1], lw=1, label='Cooley-Tukey FFT')\n",
    "\n",
    "axs[0].set_xlabel(\"Time (s)\")\n",
    "axs[1].set_xlabel(\"Frequency (Hz)\")\n",
    "\n",
    "sns.move_legend(axs[1], loc='upper left', bbox_to_anchor=(1, 1))\n",
    "\n",
    "fig.tight_layout()\n",
    "fig.savefig(Path(A3_ROOT, \"output\", \"q6_signal.png\"), **SAVEFIG_CONFIG)"
   ]
  },
  {
   "cell_type": "markdown",
   "metadata": {},
   "source": [
    "### Performance Comparison"
   ]
  },
  {
   "cell_type": "code",
   "execution_count": null,
   "metadata": {},
   "outputs": [],
   "source": [
    "import time\n",
    "from tqdm import trange\n",
    "\n",
    "N_TRIALS = 10000\n",
    "\n",
    "time_start = time.time()\n",
    "for _ in trange(N_TRIALS):\n",
    "    h_signal = fft.fft(x_signal)\n",
    "time_elapsed = time.time() - time_start\n",
    "print(f'scipy.fft ({N_TRIALS} trials): {time_elapsed * 1000 / N_TRIALS:.5f} ms')\n",
    "\n",
    "time_start = time.time()\n",
    "for _ in trange(N_TRIALS):\n",
    "    h_signal = dft(x_signal)\n",
    "time_elapsed = time.time() - time_start\n",
    "print(f'DFT ({N_TRIALS} trials): {time_elapsed * 1000 / N_TRIALS:.5f} ms')\n",
    "\n",
    "time_start = time.time()\n",
    "for _ in trange(N_TRIALS):\n",
    "    h_signal = cooley_tukey(x_signal, radix=3)\n",
    "time_elapsed = time.time() - time_start\n",
    "print(f'Cooley-Tukey FFT ({N_TRIALS} trials): {time_elapsed * 1000 / N_TRIALS:.5f} ms')\n"
   ]
  }
 ],
 "metadata": {
  "kernelspec": {
   "display_name": ".venv",
   "language": "python",
   "name": "python3"
  },
  "language_info": {
   "codemirror_mode": {
    "name": "ipython",
    "version": 3
   },
   "file_extension": ".py",
   "mimetype": "text/x-python",
   "name": "python",
   "nbconvert_exporter": "python",
   "pygments_lexer": "ipython3",
   "version": "3.11.1"
  }
 },
 "nbformat": 4,
 "nbformat_minor": 2
}
