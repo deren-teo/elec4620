{
 "cells": [
  {
   "cell_type": "markdown",
   "metadata": {},
   "source": [
    "# Question 5\n",
    "\n",
    "This script applies the Chinese Remainder Theorem to determine a value from a set of integer division remainders."
   ]
  },
  {
   "cell_type": "code",
   "execution_count": null,
   "metadata": {},
   "outputs": [],
   "source": [
    "# Define the known integer division results\n",
    "c5_3  = lambda k: 5 * k + 3\n",
    "c6_3  = lambda k: 6 * k + 3\n",
    "c7_1  = lambda k: 7 * k + 1\n",
    "c11_0 = lambda k: 11 * k\n",
    "\n",
    "set_5 = set(); set_6 = set(); set_7 = set(); set_11 = set()\n",
    "\n",
    "k = 0\n",
    "while len(set_5 & set_6 & set_7 & set_11) == 0:\n",
    "    k += 1\n",
    "    set_5.add(c5_3(k))\n",
    "    set_6.add(c6_3(k))\n",
    "    set_7.add(c7_1(k))\n",
    "    set_11.add(c11_0(k))\n",
    "\n",
    "print(set_5 & set_6 & set_7 & set_11)"
   ]
  }
 ],
 "metadata": {
  "kernelspec": {
   "display_name": ".venv",
   "language": "python",
   "name": "python3"
  },
  "language_info": {
   "codemirror_mode": {
    "name": "ipython",
    "version": 3
   },
   "file_extension": ".py",
   "mimetype": "text/x-python",
   "name": "python",
   "nbconvert_exporter": "python",
   "pygments_lexer": "ipython3",
   "version": "3.11.1"
  },
  "orig_nbformat": 4
 },
 "nbformat": 4,
 "nbformat_minor": 2
}
