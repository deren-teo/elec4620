{
 "cells": [
  {
   "cell_type": "markdown",
   "metadata": {},
   "source": [
    "# Question 1\n",
    "\n",
    "This script compares the approaches of filtering then downsampling versus applying a polyphase decimator."
   ]
  },
  {
   "cell_type": "code",
   "execution_count": null,
   "metadata": {},
   "outputs": [],
   "source": [
    "from pathlib import Path\n",
    "\n",
    "import numpy as np\n",
    "import scipy.fft as fft\n",
    "import scipy.signal as signal\n",
    "\n",
    "import matplotlib.pyplot as plt\n",
    "import seaborn as sns\n",
    "\n",
    "from a3_config import A3_ROOT, SAVEFIG_CONFIG"
   ]
  },
  {
   "cell_type": "markdown",
   "metadata": {},
   "source": [
    "Define filter specifications:"
   ]
  },
  {
   "cell_type": "code",
   "execution_count": null,
   "metadata": {},
   "outputs": [],
   "source": [
    "FS     = 40     # sampling frequency, kHz\n",
    "F_PASS = 0.2    # cutoff frequency, kHz\n",
    "F_STOP = 0.3    # stop band frequency, kHz\n",
    "A_PASS = 3      # pass band attenuation, dB\n",
    "A_STOP = 100    # stop band attenuation, dB"
   ]
  },
  {
   "cell_type": "markdown",
   "metadata": {},
   "source": [
    "### Construct Signal"
   ]
  },
  {
   "cell_type": "code",
   "execution_count": null,
   "metadata": {},
   "outputs": [],
   "source": [
    "# Create signal with tones at: 50, 150, 950, 1050 Hz sampled at 40 kHz\n",
    "t_signal = np.arange(0, 50, 1 / FS)\n",
    "x_signal = np.sin(2 * np.pi * 0.05 * t_signal) + \\\n",
    "    np.sin(2 * np.pi * 0.15 * t_signal) + \\\n",
    "    np.sin(2 * np.pi * 0.95 * t_signal) + \\\n",
    "    np.sin(2 * np.pi * 1.05 * t_signal)\n",
    "\n",
    "f_signal = fft.fftfreq(8192, 1 / FS)[:4096]\n",
    "h_signal = fft.fft(x_signal, 8192)[:4096]\n",
    "\n",
    "# Plot the signal\n",
    "fig, axs = plt.subplots(1, 2, figsize=(7.5, 1.5))\n",
    "\n",
    "sns.lineplot(x=t_signal, y=x_signal, ax=axs[0], lw=1)\n",
    "sns.lineplot(x=f_signal, y=np.abs(h_signal), ax=axs[1], lw=1)\n",
    "\n",
    "axs[0].set_xlabel(\"Time (ms)\")\n",
    "axs[1].set_xlabel(\"Frequency (kHz)\")\n",
    "axs[1].set_xlim([-0.13, 2.63])\n",
    "\n",
    "fig.tight_layout()\n",
    "fig.savefig(Path(A3_ROOT, \"output\", \"q1_signal.png\"), **SAVEFIG_CONFIG)"
   ]
  },
  {
   "cell_type": "markdown",
   "metadata": {},
   "source": [
    "### Apply Kaiser LPF"
   ]
  },
  {
   "cell_type": "code",
   "execution_count": null,
   "metadata": {},
   "outputs": [],
   "source": [
    "ripple_p = 1 - np.power(10, -A_PASS / 20)\n",
    "ripple_s = np.power(10, -A_STOP / 20)\n",
    "print(\"Maximum pass band ripple:\", ripple_p)\n",
    "print(\"Maximum stop band ripple:\", ripple_s)\n",
    "\n",
    "A = -20 * np.log10(min(ripple_p, ripple_s))\n",
    "print(\"Required attenuation:\", A, \"dB\")"
   ]
  },
  {
   "cell_type": "code",
   "execution_count": null,
   "metadata": {},
   "outputs": [],
   "source": [
    "# Kaiser window filter length estimate\n",
    "N = int(np.ceil((A - 7.95)/(14.36 * ((F_STOP - F_PASS) / FS))))\n",
    "N = N + 1 if (N % 2) else N\n",
    "print(\"Filter length estimate:\", N)\n",
    "\n",
    "beta = 0.1102 * (A - 8.7)\n",
    "print(\"Kaiser window beta:\", beta)"
   ]
  },
  {
   "cell_type": "markdown",
   "metadata": {},
   "source": [
    "Construct a vector representing the ideal frequency response."
   ]
  },
  {
   "cell_type": "code",
   "execution_count": null,
   "metadata": {},
   "outputs": [],
   "source": [
    "# Calculate pass band width, L\n",
    "L = int(np.round(N * F_PASS / FS))\n",
    "print(\"Bins in passband:\", L)\n",
    "\n",
    "# Construct V, with 1's in the pass band and 0's in the stop band\n",
    "h_ideal = np.zeros(N//2)\n",
    "h_ideal[:L] = np.ones(L)\n",
    "h_ideal = np.concatenate([h_ideal, np.flip(h_ideal)])\n",
    "\n",
    "# Impulse (time) response of ideal filter\n",
    "x_ideal = fft.fftshift(fft.ifft(h_ideal))"
   ]
  },
  {
   "cell_type": "code",
   "execution_count": null,
   "metadata": {},
   "outputs": [],
   "source": [
    "# Construct and apply the Kaiser window\n",
    "x_kaiser_lpf = x_ideal * signal.windows.kaiser(N, beta)\n",
    "h_kaiser_lpf = fft.fft(x_kaiser_lpf)[:N//2]\n",
    "\n",
    "# Time and frequency axes for plotting\n",
    "t_filter = np.arange(N) / FS\n",
    "f_filter = fft.fftfreq(N, 1 / FS)[:N//2]\n",
    "\n",
    "# Helper function for converting frequency response to dB scale\n",
    "dB = lambda x: 20 * np.log10(x)\n",
    "\n",
    "# Plot windowed filter\n",
    "fig, axs = plt.subplots(1, 2, figsize=(7.5, 1.5))\n",
    "\n",
    "sns.lineplot(x=t_filter, y=x_kaiser_lpf.real, ax=axs[0], lw=1)\n",
    "sns.lineplot(x=f_filter, y=dB(np.abs(h_kaiser_lpf)), ax=axs[1], lw=1)\n",
    "\n",
    "axs[0].set_xlabel('Time (ms)')\n",
    "axs[1].set_xlabel('Frequency (kHz)')\n",
    "axs[1].set_ylabel('Gain (dB)')\n",
    "axs[1].set_xlim([-0.13, 2.63])\n",
    "\n",
    "fig.tight_layout()\n",
    "fig.savefig(Path(A3_ROOT, \"output\", \"q1_filter.png\"), **SAVEFIG_CONFIG)"
   ]
  },
  {
   "cell_type": "code",
   "execution_count": null,
   "metadata": {},
   "outputs": [],
   "source": [
    "from scipy.io import savemat\n",
    "\n",
    "# Export the Kaiser LPF for Questions 2 & 3\n",
    "fname = Path(A3_ROOT, \"output\", \"q1_kaiser_lpf.npy\")\n",
    "np.save(fname, x_kaiser_lpf)\n",
    "\n",
    "# Export as .mat file also for Question 9 (importing into MATLAB)\n",
    "fname = Path(A3_ROOT, \"output\", \"q9_kaiser_lpf.mat\")\n",
    "savemat(fname, dict(filter=x_kaiser_lpf))"
   ]
  },
  {
   "cell_type": "code",
   "execution_count": null,
   "metadata": {},
   "outputs": [],
   "source": [
    "# Apply filter to signal, removing transient edge effects\n",
    "x_filt = signal.convolve(x_kaiser_lpf, x_signal)[N//2:-(N//2-1)]\n",
    "h_filt = fft.fft(x_filt, 8192)[:4096]\n",
    "\n",
    "fig, axs = plt.subplots(1, 2, figsize=(7.5, 1.5))\n",
    "\n",
    "sns.lineplot(x=t_signal, y=x_filt.real, ax=axs[0], lw=1)\n",
    "sns.lineplot(x=f_signal, y=np.abs(h_filt), ax=axs[1], lw=1)\n",
    "\n",
    "axs[0].set_xlabel(\"Time (ms)\")\n",
    "axs[1].set_xlabel(\"Frequency (kHz)\")\n",
    "axs[1].set_xlim([-0.13, 2.63])\n",
    "\n",
    "fig.tight_layout()\n",
    "fig.savefig(Path(A3_ROOT, \"output\", \"q1_filtered.png\"), **SAVEFIG_CONFIG)"
   ]
  },
  {
   "cell_type": "markdown",
   "metadata": {},
   "source": [
    "### Maximally Downsample"
   ]
  },
  {
   "cell_type": "code",
   "execution_count": null,
   "metadata": {},
   "outputs": [],
   "source": [
    "M = int(FS // (F_PASS + F_STOP))\n",
    "print(\"Downsampling by factor of:\", M)\n",
    "\n",
    "x_dsamp = x_filt[::M]\n",
    "h_dsamp = fft.fft(x_dsamp, 8192)[:4096]\n",
    "\n",
    "t_dsamp = np.arange(0, 50, M / FS)\n",
    "f_dsamp = fft.fftfreq(8192, M / FS)[:4096] * 1000 # show in Hz rather than kHz\n",
    "\n",
    "fig, axs = plt.subplots(1, 2, figsize=(7.5, 1.5))\n",
    "\n",
    "sns.lineplot(x=t_dsamp, y=x_dsamp.real, ax=axs[0], lw=1)\n",
    "sns.lineplot(x=f_dsamp, y=np.abs(h_dsamp), ax=axs[1], lw=1)\n",
    "\n",
    "axs[0].set_xlabel(\"Time (ms)\")\n",
    "axs[1].set_xlabel(\"Frequency (Hz)\")\n",
    "\n",
    "fig.tight_layout()\n",
    "fig.savefig(Path(A3_ROOT, \"output\", \"q1_dsamp.png\"), **SAVEFIG_CONFIG)"
   ]
  },
  {
   "cell_type": "markdown",
   "metadata": {},
   "source": [
    "### Polyphase Downsample"
   ]
  },
  {
   "cell_type": "code",
   "execution_count": null,
   "metadata": {},
   "outputs": [],
   "source": [
    "# Reshape filter coefficients into matrix, zero padded to muliple of M\n",
    "k = M - (N % M)\n",
    "polyfilt = np.concatenate([x_kaiser_lpf, np.zeros(k)])\n",
    "polyfilt = polyfilt.reshape(int((N + k) / M), M).T  # reshape row-major then T\n",
    "polyfilt = np.flipud(polyfilt)                      # vertical flip\n",
    "\n",
    "# Reshape signal to equal vertical dimension\n",
    "x_polysig = x_signal.reshape(int((len(x_signal) + k) / M), M).T"
   ]
  },
  {
   "cell_type": "code",
   "execution_count": null,
   "metadata": {},
   "outputs": [],
   "source": [
    "# Accumulate results into output array, which becomes the filtered signal\n",
    "x_polyfilt = np.zeros(int((len(x_signal) + N + k) / M - 1), dtype=np.complex128)\n",
    "for i in range(M):\n",
    "    x_polyfilt += signal.convolve(polyfilt[i], x_polysig[i])\n",
    "\n",
    "# As before, remove transient edge effects\n",
    "N_polyfilt = polyfilt.shape[1]\n",
    "x_polyfilt = x_polyfilt[N_polyfilt//2:-(N_polyfilt-1)//2]\n",
    "\n",
    "# Calculate transform for plotting\n",
    "h_polyfilt = fft.fft(x_polyfilt, 8192)[:4096]\n",
    "\n",
    "# Construct time and frequency axes for plotting\n",
    "t_polyfilt = np.arange(0, 50, 50 / len(x_polyfilt))\n",
    "f_polyfilt = fft.fftfreq(8192, 50 / len(x_polyfilt))[:4096] * 1000 # kHz -> Hz\n",
    "\n",
    "# Plot the polyphase downsampled signal\n",
    "fig, axs = plt.subplots(1, 2, figsize=(7.5, 1.5))\n",
    "\n",
    "sns.lineplot(x=t_polyfilt, y=x_polyfilt.real, ax=axs[0], lw=1)\n",
    "sns.lineplot(x=f_polyfilt, y=np.abs(h_polyfilt), ax=axs[1], lw=1)\n",
    "\n",
    "axs[0].set_xlabel(\"Time (ms)\")\n",
    "axs[1].set_xlabel(\"Frequency (Hz)\")\n",
    "\n",
    "fig.tight_layout()\n",
    "fig.savefig(Path(A3_ROOT, \"output\", \"q1_polydecimate.png\"), **SAVEFIG_CONFIG)"
   ]
  },
  {
   "cell_type": "code",
   "execution_count": null,
   "metadata": {},
   "outputs": [],
   "source": [
    "# Export the polyphase downsampled signal for Questions 2 & 3\n",
    "fname = Path(A3_ROOT, \"output\", \"q1_signal_out.npy\")\n",
    "np.save(fname, np.stack([t_polyfilt, x_polyfilt]))"
   ]
  },
  {
   "cell_type": "markdown",
   "metadata": {},
   "source": [
    "### Timing Comparison\n",
    "\n",
    "We stage a timing comparison between the two methods: filtering then downsampling versus polyphase decimation."
   ]
  },
  {
   "cell_type": "code",
   "execution_count": null,
   "metadata": {},
   "outputs": [],
   "source": [
    "import time\n",
    "from tqdm import trange\n",
    "\n",
    "N_TRIALS = 10000\n",
    "msfmt = lambda t: f'{(t * 1000 / N_TRIALS):.5f}'\n",
    "\n",
    "time_start = time.time()\n",
    "for _ in trange(N_TRIALS):\n",
    "    x_filt = signal.convolve(x_kaiser_lpf, x_signal)[N//2:-(N//2-1)]\n",
    "    x_dsamp = x_filt[::M]\n",
    "time_elapsed = time.time() - time_start\n",
    "print(f\"Filter then downsample ({N_TRIALS} trials): {msfmt(time_elapsed)} ms\")"
   ]
  },
  {
   "cell_type": "code",
   "execution_count": null,
   "metadata": {},
   "outputs": [],
   "source": [
    "time_start = time.time()\n",
    "for _ in trange(N_TRIALS):\n",
    "    x_polyfilt = np.zeros(\n",
    "        int((len(x_signal) + N + k) / M - 1), dtype=np.complex128)\n",
    "    for i in range(M):\n",
    "        x_polyfilt += signal.convolve(polyfilt[i], x_polysig[i])\n",
    "time_elapsed = time.time() - time_start\n",
    "print(f\"Polyphase decimator ({N_TRIALS} trials): {msfmt(time_elapsed)} ms\")"
   ]
  }
 ],
 "metadata": {
  "kernelspec": {
   "display_name": ".venv",
   "language": "python",
   "name": "python3"
  },
  "language_info": {
   "codemirror_mode": {
    "name": "ipython",
    "version": 3
   },
   "file_extension": ".py",
   "mimetype": "text/x-python",
   "name": "python",
   "nbconvert_exporter": "python",
   "pygments_lexer": "ipython3",
   "version": "3.11.1"
  },
  "orig_nbformat": 4
 },
 "nbformat": 4,
 "nbformat_minor": 2
}
