{
 "cells": [
  {
   "cell_type": "markdown",
   "metadata": {},
   "source": [
    "# Questions 2\n",
    "\n",
    "This script compares the approaches of upsampling then filtering versus applying a polyphase interpolator."
   ]
  },
  {
   "cell_type": "code",
   "execution_count": null,
   "metadata": {},
   "outputs": [],
   "source": [
    "from pathlib import Path\n",
    "\n",
    "import numpy as np\n",
    "import scipy.fft as fft\n",
    "import scipy.signal as signal\n",
    "\n",
    "import matplotlib.pyplot as plt\n",
    "import seaborn as sns\n",
    "\n",
    "from a3_config import A3_ROOT, SAVEFIG_CONFIG"
   ]
  },
  {
   "cell_type": "markdown",
   "metadata": {},
   "source": [
    "Define filter specifications:"
   ]
  },
  {
   "cell_type": "code",
   "execution_count": null,
   "metadata": {},
   "outputs": [],
   "source": [
    "FS     = 0.5    # sampling frequency, kHz\n",
    "F_PASS = 0.2    # cutoff frequency, kHz\n",
    "F_STOP = 0.3    # stop band frequency, kHz\n",
    "A_PASS = 3      # pass band attenuation, dB\n",
    "A_STOP = 100    # stop band attenuation, dB"
   ]
  },
  {
   "cell_type": "markdown",
   "metadata": {},
   "source": [
    "### Upsample"
   ]
  },
  {
   "cell_type": "code",
   "execution_count": null,
   "metadata": {},
   "outputs": [],
   "source": [
    "# Import polyphase downsampled signal from Question 1\n",
    "t_signal, x_signal = np.load(Path(A3_ROOT, \"output\", \"q1_signal_out.npy\"))"
   ]
  },
  {
   "cell_type": "code",
   "execution_count": null,
   "metadata": {},
   "outputs": [],
   "source": [
    "L = 80 # upsampling rate, equal to M determined in Question 1\n",
    "x_zpack = np.concatenate([[x]+[0]*(L-1) for x in x_signal])\n",
    "h_zpack = fft.fft(x_zpack, 8192)[:4096]\n",
    "\n",
    "t_zpack = np.arange(0, 50, 1 / (FS * L))\n",
    "f_zpack = fft.fftfreq(8192, 1 / (FS * L))[:4096] * 1000 # show in Hz rather than kHz\n",
    "\n",
    "fig, axs = plt.subplots(2, figsize=(6, 3))\n",
    "fig.tight_layout()\n",
    "\n",
    "sns.lineplot(x=t_zpack, y=x_zpack.real, ax=axs[0])\n",
    "sns.lineplot(x=f_zpack, y=np.abs(h_zpack), ax=axs[1])\n",
    "\n",
    "axs[0].set_xlabel(\"Time (ms)\")\n",
    "axs[1].set_xlabel(\"Frequency (Hz)\")\n",
    "axs[1].set_xlim([-13, 263])\n",
    "\n",
    "# fname = Path(A3_ROOT, \"output\", \"q2_zpack.png\")\n",
    "# fig.savefig(fname, **SAVEFIG_CONFIG)\n",
    "plt.show()"
   ]
  },
  {
   "cell_type": "markdown",
   "metadata": {},
   "source": [
    "### Attempt Sinc Interpolation"
   ]
  },
  {
   "cell_type": "code",
   "execution_count": null,
   "metadata": {},
   "outputs": [],
   "source": [
    "# Apply rectangular window in freq. domain (i.e. sinc interpolation)\n",
    "N_zpack = len(x_zpack); passband = int(np.ceil(N_zpack * 0.005)) + 1\n",
    "f_mask1 = np.ones(len(x_zpack)); f_mask1[passband:-passband] = 0\n",
    "x_usamp = fft.ifft(fft.fft(x_zpack) * f_mask1)\n",
    "\n",
    "passband = int(np.ceil(4096 * 0.01)) + 1\n",
    "f_mask2 = np.ones(4096); f_mask2[passband:] = 0\n",
    "h_usamp = fft.fft(x_zpack, 8192)[:4096] * f_mask2\n",
    "\n",
    "fig, axs = plt.subplots(2, figsize=(6, 3))\n",
    "fig.tight_layout()\n",
    "\n",
    "sns.lineplot(x=t_zpack, y=x_usamp.real, ax=axs[0])\n",
    "sns.lineplot(x=f_zpack, y=np.abs(h_usamp), ax=axs[1])\n",
    "\n",
    "axs[0].set_xlabel(\"Time (ms)\")\n",
    "axs[1].set_xlabel(\"Frequency (Hz)\")\n",
    "axs[1].set_xlim([-13, 263])\n",
    "\n",
    "# fname = Path(A3_ROOT, \"output\", \"q2_usamp.png\")\n",
    "# fig.savefig(fname, **SAVEFIG_CONFIG)\n",
    "plt.show()"
   ]
  },
  {
   "cell_type": "markdown",
   "metadata": {},
   "source": [
    "### Attempt Kaiser LPF"
   ]
  },
  {
   "cell_type": "code",
   "execution_count": null,
   "metadata": {},
   "outputs": [],
   "source": [
    "ripple_p = 1 - np.power(10, -A_PASS / 20)\n",
    "ripple_s = np.power(10, -A_STOP / 20)\n",
    "print(\"Maximum pass band ripple:\", ripple_p)\n",
    "print(\"Maximum stop band ripple:\", ripple_s)\n",
    "\n",
    "A = -20 * np.log10(min(ripple_p, ripple_s))\n",
    "print(\"Required attenuation:\", A, \"dB\")"
   ]
  },
  {
   "cell_type": "code",
   "execution_count": null,
   "metadata": {},
   "outputs": [],
   "source": [
    "# Kaiser window filter length estimate\n",
    "N = int(np.ceil((A - 7.95)/(14.36 * ((F_STOP - F_PASS) / (FS * 80)))))\n",
    "N = N + 1 if (N % 2) else N\n",
    "print(\"Filter length estimate:\", N)\n",
    "\n",
    "beta = 0.1102 * (A - 8.7)\n",
    "print(\"Kaiser window beta:\", beta)"
   ]
  },
  {
   "cell_type": "markdown",
   "metadata": {},
   "source": [
    "Construct a vector representing the ideal frequency response."
   ]
  },
  {
   "cell_type": "code",
   "execution_count": null,
   "metadata": {},
   "outputs": [],
   "source": [
    "# Calculate pass band width, L\n",
    "_L = int(np.round(N * F_PASS / (FS * 80)))\n",
    "print(\"Bins in passband:\", _L)\n",
    "\n",
    "# Construct V, with 1's in the pass band and 0's in the stop band\n",
    "h_ideal = np.zeros(N//2)\n",
    "h_ideal[:_L] = np.ones(_L)\n",
    "h_ideal = np.concatenate([h_ideal, np.flip(h_ideal)])\n",
    "\n",
    "# Construct a frequency axis for plotting\n",
    "f_ideal = np.linspace(0, FS * 80, N)\n",
    "\n",
    "# Plot ideal frequency response, represented by vector V\n",
    "fig, ax = plt.subplots(figsize=(6, 2))\n",
    "fig.tight_layout()\n",
    "\n",
    "sns.lineplot(x=f_ideal[:N//2], y=h_ideal[:N//2], ax=ax)\n",
    "ax.set_xlim([0, 1])\n",
    "ax.set_xlabel(\"Frequency (kHz)\")\n",
    "ax.set_ylabel(\"Gain\")\n",
    "\n",
    "plt.show()"
   ]
  },
  {
   "cell_type": "code",
   "execution_count": null,
   "metadata": {},
   "outputs": [],
   "source": [
    "# Impulse (time) response of ideal filter\n",
    "x_ideal = fft.fftshift(fft.ifft(h_ideal))\n",
    "\n",
    "# Construct and apply the Kaiser window\n",
    "x_windowed = x_ideal * signal.windows.kaiser(N, beta)\n",
    "h_windowed = fft.fft(x_windowed, 512)[:256]"
   ]
  },
  {
   "cell_type": "code",
   "execution_count": null,
   "metadata": {},
   "outputs": [],
   "source": [
    "# Apply filter to signal, removing transient edge effects\n",
    "x_filt = signal.convolve(x_windowed, x_zpack)[N//2:-(N//2-1)]\n",
    "h_filt = fft.fft(x_filt, 8192)[:4096]\n",
    "\n",
    "fig, axs = plt.subplots(2, figsize=(6, 3))\n",
    "fig.tight_layout()\n",
    "\n",
    "sns.lineplot(x=t_zpack, y=x_filt.real, ax=axs[0])\n",
    "sns.lineplot(x=f_zpack, y=np.abs(h_filt), ax=axs[1])\n",
    "\n",
    "axs[0].set_xlabel(\"Time (ms)\")\n",
    "axs[1].set_xlabel(\"Frequency (Hz)\")\n",
    "axs[1].set_xlim([-13, 263])\n",
    "\n",
    "# fname = Path(A3_ROOT, \"output\", \"q1_filt.png\")\n",
    "# fig.savefig(fname, **SAVEFIG_CONFIG)\n",
    "plt.show()"
   ]
  },
  {
   "cell_type": "markdown",
   "metadata": {},
   "source": [
    "### Polyphase Upsample"
   ]
  },
  {
   "cell_type": "code",
   "execution_count": null,
   "metadata": {},
   "outputs": [],
   "source": [
    "# Reshape filter coefficients into matrix, zero padded to multiple of M\n",
    "k = L - (N % L)\n",
    "polyfilt = np.concatenate([x_windowed, np.zeros(k)])\n",
    "polyfilt = polyfilt.reshape(int((N + k) / L), L).T  # reshape row-major then transpose"
   ]
  },
  {
   "cell_type": "code",
   "execution_count": null,
   "metadata": {},
   "outputs": [],
   "source": [
    "# Concatenate results into output array, which becomes the filtered signal\n",
    "x_polyfilt = []\n",
    "for i in range(L):\n",
    "    x_polyfilt.append(signal.convolve(polyfilt[i], x_signal))\n",
    "x_polyfilt = np.array(x_polyfilt).flatten(\"F\")\n",
    "\n",
    "# As before, remove transient edge effects\n",
    "x_polyfilt = x_polyfilt[(N+k)//2:-(N+k)//2]\n",
    "\n",
    "# Plot the polyphase downsampled signal\n",
    "h_polyfilt = fft.fft(x_polyfilt, 8192)[:4096]\n",
    "\n",
    "t_polyfilt = np.arange(0, 50, 50 / len(x_polyfilt))\n",
    "f_polyfilt = fft.fftfreq(8192, 50 / len(x_polyfilt))[:4096] * 1000 # kHz -> Hz\n",
    "\n",
    "fig, axs = plt.subplots(2, figsize=(6, 3))\n",
    "fig.tight_layout()\n",
    "\n",
    "sns.lineplot(x=t_polyfilt, y=x_polyfilt.real, ax=axs[0])\n",
    "sns.lineplot(x=f_polyfilt, y=np.abs(h_polyfilt), ax=axs[1])\n",
    "\n",
    "axs[0].set_xlabel(\"Time (ms)\")\n",
    "axs[1].set_xlabel(\"Frequency (Hz)\")\n",
    "axs[1].set_xlim([-13, 263])\n",
    "\n",
    "# fname = Path(A3_ROOT, \"output\", \"q2_polyfilt.png\")\n",
    "# fig.savefig(fname, **SAVEFIG_CONFIG)\n",
    "plt.show()"
   ]
  },
  {
   "cell_type": "markdown",
   "metadata": {},
   "source": [
    "TODO: the above has only 1920 data points, and the frequency spectrum is clearly shifted."
   ]
  }
 ],
 "metadata": {
  "kernelspec": {
   "display_name": ".venv",
   "language": "python",
   "name": "python3"
  },
  "language_info": {
   "codemirror_mode": {
    "name": "ipython",
    "version": 3
   },
   "file_extension": ".py",
   "mimetype": "text/x-python",
   "name": "python",
   "nbconvert_exporter": "python",
   "pygments_lexer": "ipython3",
   "version": "3.10.12"
  },
  "orig_nbformat": 4
 },
 "nbformat": 4,
 "nbformat_minor": 2
}
