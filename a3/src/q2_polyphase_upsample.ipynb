{
 "cells": [
  {
   "cell_type": "markdown",
   "metadata": {},
   "source": [
    "# Questions 2\n",
    "\n",
    "This script compares the approaches of upsampling then filtering versus applying a polyphase upsampling filter."
   ]
  },
  {
   "cell_type": "code",
   "execution_count": null,
   "metadata": {},
   "outputs": [],
   "source": [
    "from pathlib import Path\n",
    "\n",
    "import numpy as np\n",
    "import scipy.fft as fft\n",
    "import scipy.signal as signal\n",
    "\n",
    "import matplotlib.pyplot as plt\n",
    "import seaborn as sns\n",
    "\n",
    "from a3_config import A3_ROOT, SAVEFIG_CONFIG"
   ]
  },
  {
   "cell_type": "markdown",
   "metadata": {},
   "source": [
    "Define filter specifications:"
   ]
  },
  {
   "cell_type": "code",
   "execution_count": null,
   "metadata": {},
   "outputs": [],
   "source": [
    "FS     = 0.5     # sampling frequency, kHz\n",
    "F_PASS = 0.2    # cutoff frequency, kHz\n",
    "F_STOP = 0.3    # stop band frequency, kHz\n",
    "A_PASS = 3      # pass band attenuation, dB\n",
    "A_STOP = 100    # stop band attenuation, dB"
   ]
  },
  {
   "cell_type": "markdown",
   "metadata": {},
   "source": [
    "### Upsample"
   ]
  },
  {
   "cell_type": "code",
   "execution_count": null,
   "metadata": {},
   "outputs": [],
   "source": [
    "# Import polyphase downsampled signal from Question 1\n",
    "t_signal, x_signal = np.load(Path(A3_ROOT, \"output\", \"q1_signal_out.npy\"))"
   ]
  },
  {
   "cell_type": "code",
   "execution_count": null,
   "metadata": {},
   "outputs": [],
   "source": [
    "M = 80 # determined in Question 1\n",
    "x_zpack = np.concatenate([[x]+[0]*(M-1) for x in x_signal])\n",
    "h_zpack = fft.fft(x_zpack, 8192)[:4096]\n",
    "\n",
    "t_zpack = np.arange(0, 50, 1 / (FS * M))\n",
    "f_zpack = fft.fftfreq(8192, 1 / (FS * M))[:4096] * 1000 # show in Hz rather than kHz\n",
    "\n",
    "fig, axs = plt.subplots(2, figsize=(6, 3))\n",
    "fig.tight_layout()\n",
    "\n",
    "sns.lineplot(x=t_zpack, y=x_zpack.real, ax=axs[0])\n",
    "sns.lineplot(x=f_zpack, y=np.abs(h_zpack), ax=axs[1])\n",
    "\n",
    "axs[0].set_xlabel(\"Time (ms)\")\n",
    "axs[1].set_xlabel(\"Frequency (Hz)\")\n",
    "axs[1].set_xlim([-13, 263])\n",
    "\n",
    "# fname = Path(A3_ROOT, \"output\", \"q2_zpack.png\")\n",
    "# fig.savefig(fname, **SAVEFIG_CONFIG)\n",
    "plt.show()"
   ]
  },
  {
   "cell_type": "markdown",
   "metadata": {},
   "source": [
    "### Attempt Sinc Interpolation"
   ]
  },
  {
   "cell_type": "code",
   "execution_count": null,
   "metadata": {},
   "outputs": [],
   "source": [
    "# Apply rectangular window in freq. domain (i.e. sinc interpolation)\n",
    "N_zpack = len(x_zpack); passband = int(np.ceil(N_zpack * 0.005)) + 1\n",
    "f_mask1 = np.ones(len(x_zpack)); f_mask1[passband:-passband] = 0\n",
    "x_usamp = fft.ifft(fft.fft(x_zpack) * f_mask1)\n",
    "\n",
    "passband = int(np.ceil(4096 * 0.01)) + 1\n",
    "f_mask2 = np.ones(4096); f_mask2[passband:] = 0\n",
    "h_usamp = fft.fft(x_zpack, 8192)[:4096] * f_mask2\n",
    "\n",
    "fig, axs = plt.subplots(2, figsize=(6, 3))\n",
    "fig.tight_layout()\n",
    "\n",
    "sns.lineplot(x=t_zpack, y=x_usamp.real, ax=axs[0])\n",
    "sns.lineplot(x=f_zpack, y=np.abs(h_usamp), ax=axs[1])\n",
    "\n",
    "axs[0].set_xlabel(\"Time (ms)\")\n",
    "axs[1].set_xlabel(\"Frequency (Hz)\")\n",
    "axs[1].set_xlim([-13, 263])\n",
    "\n",
    "# fname = Path(A3_ROOT, \"output\", \"q2_usamp.png\")\n",
    "# fig.savefig(fname, **SAVEFIG_CONFIG)\n",
    "plt.show()"
   ]
  },
  {
   "cell_type": "markdown",
   "metadata": {},
   "source": [
    "### Attempt Kaiser LPF"
   ]
  },
  {
   "cell_type": "code",
   "execution_count": null,
   "metadata": {},
   "outputs": [],
   "source": [
    "ripple_p = 1 - np.power(10, -A_PASS / 20)\n",
    "ripple_s = np.power(10, -A_STOP / 20)\n",
    "print(\"Maximum pass band ripple:\", ripple_p)\n",
    "print(\"Maximum stop band ripple:\", ripple_s)\n",
    "\n",
    "A = -20 * np.log10(min(ripple_p, ripple_s))\n",
    "print(\"Required attenuation:\", A, \"dB\")"
   ]
  },
  {
   "cell_type": "code",
   "execution_count": null,
   "metadata": {},
   "outputs": [],
   "source": [
    "# Kaiser window filter length estimate\n",
    "N = int(np.ceil((A - 7.95)/(14.36 * ((F_STOP - F_PASS) / (FS * 80)))))\n",
    "N = N + 1 if (N % 2) else N\n",
    "print(\"Filter length estimate:\", N)\n",
    "\n",
    "beta = 0.1102 * (A - 8.7)\n",
    "print(\"Kaiser window beta:\", beta)"
   ]
  },
  {
   "cell_type": "markdown",
   "metadata": {},
   "source": [
    "Construct a vector representing the ideal frequency response."
   ]
  },
  {
   "cell_type": "code",
   "execution_count": null,
   "metadata": {},
   "outputs": [],
   "source": [
    "# Calculate pass band width, L\n",
    "L = int(np.round(N * F_PASS / (FS * 80)))\n",
    "print(\"Bins in passband:\", L)\n",
    "\n",
    "# Construct V, with 1's in the pass band and 0's in the stop band\n",
    "h_ideal = np.zeros(N//2)\n",
    "h_ideal[:L] = np.ones(L)\n",
    "h_ideal = np.concatenate([h_ideal, np.flip(h_ideal)])\n",
    "\n",
    "# Construct a frequency axis for plotting\n",
    "f_ideal = np.linspace(0, FS * 80, N)\n",
    "\n",
    "# Plot ideal frequency response, represented by vector V\n",
    "fig, ax = plt.subplots(figsize=(6, 2))\n",
    "fig.tight_layout()\n",
    "\n",
    "sns.lineplot(x=f_ideal[:N//2], y=h_ideal[:N//2], ax=ax)\n",
    "ax.set_xlim([0, 1])\n",
    "ax.set_xlabel(\"Frequency (kHz)\")\n",
    "ax.set_ylabel(\"Gain\")\n",
    "\n",
    "plt.show()"
   ]
  },
  {
   "cell_type": "code",
   "execution_count": null,
   "metadata": {},
   "outputs": [],
   "source": [
    "# Helper function for converting frequency response to dB scale\n",
    "dB = lambda x: 20 * np.log10(x)\n",
    "\n",
    "def plot_freqz(w, h, fname=None):\n",
    "    \"\"\"Plot frequency response and overlay filter requirements.\"\"\"\n",
    "    fig, ax = plt.subplots(figsize=(6, 3))\n",
    "    fig.tight_layout()\n",
    "    sns.lineplot(x=w, y=dB(np.abs(h)), ax=ax)\n",
    "    # Axis labels\n",
    "    ax.set_xlabel(\"Frequency (kHz)\")\n",
    "    ax.set_ylabel(\"Gain (dB)\")\n",
    "    ax.legend(framealpha=1)\n",
    "    # Save or just show\n",
    "    if fname:\n",
    "        fig.savefig(Path(A3_ROOT, \"output\", fname), **SAVEFIG_CONFIG)\n",
    "    plt.show()"
   ]
  },
  {
   "cell_type": "code",
   "execution_count": null,
   "metadata": {},
   "outputs": [],
   "source": [
    "# Impulse (time) response of ideal filter\n",
    "x_ideal = fft.fftshift(fft.ifft(h_ideal))\n",
    "\n",
    "# Construct and apply the Kaiser window\n",
    "x_windowed = x_ideal * signal.windows.kaiser(N, beta)\n",
    "h_windowed = fft.fft(x_windowed, 512)[:256]\n",
    "\n",
    "# Construct frequency axis for plotting\n",
    "f_windowed = np.linspace(0, FS * 80 / 2, 256)\n",
    "\n",
    "plot_freqz(f_windowed, h_windowed)"
   ]
  },
  {
   "cell_type": "code",
   "execution_count": null,
   "metadata": {},
   "outputs": [],
   "source": [
    "# Apply filter to signal, removing transient edge effects\n",
    "x_filt = signal.convolve(x_windowed, x_zpack)[N//2:-(N//2-1)]\n",
    "h_filt = fft.fft(x_filt, 8192)[:4096]\n",
    "\n",
    "fig, axs = plt.subplots(2, figsize=(6, 3))\n",
    "fig.tight_layout()\n",
    "\n",
    "sns.lineplot(x=t_zpack, y=x_filt.real, ax=axs[0])\n",
    "sns.lineplot(x=f_zpack, y=np.abs(h_filt), ax=axs[1])\n",
    "\n",
    "axs[0].set_xlabel(\"Time (ms)\")\n",
    "axs[1].set_xlabel(\"Frequency (Hz)\")\n",
    "axs[1].set_xlim([-13, 263])\n",
    "\n",
    "# fname = Path(A3_ROOT, \"output\", \"q1_filt.png\")\n",
    "# fig.savefig(fname, **SAVEFIG_CONFIG)\n",
    "plt.show()"
   ]
  },
  {
   "cell_type": "markdown",
   "metadata": {},
   "source": [
    "### Polyphase Upsample"
   ]
  },
  {
   "cell_type": "code",
   "execution_count": null,
   "metadata": {},
   "outputs": [],
   "source": [
    "# Reshape filter coefficients into matrix, zero padded to multiple of M\n",
    "k = M - (N % M)\n",
    "polyfilt = np.concatenate([x_windowed, np.zeros(k)])\n",
    "polyfilt = polyfilt.reshape(int((N + k) / M), M).T  # reshape row-major then transpose\n",
    "polyfilt = np.flipud(polyfilt)                      # vertical flip"
   ]
  },
  {
   "cell_type": "code",
   "execution_count": null,
   "metadata": {},
   "outputs": [],
   "source": [
    "# Concatenate results into output array, which becomes the filtered signal\n",
    "# x_polyfilt = np.empty(0, dtype=np.complex128)\n",
    "# for i in range(M):\n",
    "#     x_polyfilt = np.append(x_polyfilt, signal.convolve(polyfilt[i], x_signal))\n",
    "x_polyfilt = []\n",
    "for x in x_signal:\n",
    "    for i in range(M):\n",
    "        x_polyfilt.append(sum(x * b for b in polyfilt[i])) # TODO: this is clearly incorrect...\n",
    "\n",
    "x_polyfilt = np.array(x_polyfilt)\n",
    "plt.plot(x_polyfilt)"
   ]
  }
 ],
 "metadata": {
  "kernelspec": {
   "display_name": ".venv",
   "language": "python",
   "name": "python3"
  },
  "language_info": {
   "codemirror_mode": {
    "name": "ipython",
    "version": 3
   },
   "file_extension": ".py",
   "mimetype": "text/x-python",
   "name": "python",
   "nbconvert_exporter": "python",
   "pygments_lexer": "ipython3",
   "version": "3.11.1"
  },
  "orig_nbformat": 4
 },
 "nbformat": 4,
 "nbformat_minor": 2
}
