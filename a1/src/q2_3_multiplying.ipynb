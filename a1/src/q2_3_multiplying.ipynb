{
 "cells": [
  {
   "cell_type": "markdown",
   "metadata": {},
   "source": [
    "# Question 2 & 3\n",
    "\n",
    "This script multiplies polynomials/integers in vector representation using\n",
    "convolution and the discrete Fourier transform."
   ]
  },
  {
   "cell_type": "code",
   "execution_count": 2,
   "metadata": {},
   "outputs": [],
   "source": [
    "import numpy as np\n",
    "\n",
    "from scipy.signal import convolve\n",
    "from scipy.fft import fft, ifft"
   ]
  },
  {
   "cell_type": "markdown",
   "metadata": {},
   "source": [
    "### Question 2"
   ]
  },
  {
   "cell_type": "code",
   "execution_count": 8,
   "metadata": {},
   "outputs": [],
   "source": [
    "# Define the polynomial coefficients vectors\n",
    "x = np.array([1, 2, 6, 11, 15, 12], dtype=np.float64)\n",
    "y = np.array([1, -3, -3, 7, -7, 3], dtype=np.float64)"
   ]
  },
  {
   "cell_type": "code",
   "execution_count": 9,
   "metadata": {},
   "outputs": [
    {
     "name": "stdout",
     "output_type": "stream",
     "text": [
      "Q2 by convolution:  [  1.  -1.  -3.  -6. -29. -35. -40.  10.  12. -39.  36.]\n",
      "Q2 by FFT and IFFT: [  1.  -1.  -3.  -6. -29. -35. -40.  10.  12. -39.  36.]\n"
     ]
    }
   ],
   "source": [
    "# Multiply by direct convolution\n",
    "z_conv = convolve(x, y, mode=\"full\", method=\"direct\")\n",
    "\n",
    "# Multiply by converting to Fourier domain\n",
    "x_padded = np.pad(x, (0, len(y) - 1))\n",
    "y_padded = np.pad(y, (0, len(x) - 1))\n",
    "z_ffts = ifft(fft(x_padded) * fft(y_padded)).real\n",
    "\n",
    "print(\"Q2 by convolution: \", z_conv)\n",
    "print(\"Q2 by FFT and IFFT:\", z_ffts)"
   ]
  },
  {
   "cell_type": "markdown",
   "metadata": {},
   "source": [
    "### Question 3"
   ]
  },
  {
   "cell_type": "code",
   "execution_count": 12,
   "metadata": {},
   "outputs": [],
   "source": [
    "# Define the integer multiplicands as vectors\n",
    "x = np.array([8, 7, 5, 5, 7, 9, 0], dtype=np.float64)\n",
    "y = np.array([1, 3, 6, 7, 2, 6, 7], dtype=np.float64)"
   ]
  },
  {
   "cell_type": "code",
   "execution_count": 13,
   "metadata": {},
   "outputs": [],
   "source": [
    "# Define the \"carry\" operation used for integer multiplication\n",
    "def multiply_carry(z: np.array) -> np.array:\n",
    "    \"\"\"\n",
    "    Perform the \"carry\" steps of the multiplication process. Starting from the\n",
    "    right end of `z`, each digit is taken modulo 10 and the remainder is added\n",
    "    to the value immediately to the left. Returns an array of single digits,\n",
    "    possibly except the first value (though the answer will still be correct).\n",
    "    \"\"\"\n",
    "    r = 0; ret = []\n",
    "    for n in z[::-1]:\n",
    "        n += r\n",
    "        ret.append(n % 10)\n",
    "        r = n // 10\n",
    "    ret.append(r)\n",
    "    return np.array(ret[::-1])"
   ]
  },
  {
   "cell_type": "code",
   "execution_count": 14,
   "metadata": {},
   "outputs": [
    {
     "name": "stdout",
     "output_type": "stream",
     "text": [
      "Q3 by multiplication: 11971502725930\n",
      "Q3 by convolution:    [1. 1. 9. 7. 1. 5. 0. 2. 7. 2. 5. 9. 3. 0.]\n",
      "Q3 by FFT and IFFT:   [1. 1. 9. 7. 1. 5. 0. 2. 7. 2. 5. 9. 3. 0.]\n"
     ]
    }
   ],
   "source": [
    "# Multiply by direct convolution\n",
    "z_conv = multiply_carry(convolve(x, y, mode=\"full\", method=\"direct\"))\n",
    "\n",
    "# Multiply by converting to Fourier domain\n",
    "x_padded = np.pad(x, (0, len(y) - 1))\n",
    "y_padded = np.pad(y, (0, len(x) - 1))\n",
    "z_ffts = multiply_carry(ifft(fft(x_padded) * fft(y_padded)).real)\n",
    "\n",
    "print(\"Q3 by multiplication:\", 8755790 * 1367267)\n",
    "print(\"Q3 by convolution:   \", z_conv)\n",
    "print(\"Q3 by FFT and IFFT:  \", z_conv)"
   ]
  }
 ],
 "metadata": {
  "kernelspec": {
   "display_name": ".venv",
   "language": "python",
   "name": "python3"
  },
  "language_info": {
   "codemirror_mode": {
    "name": "ipython",
    "version": 3
   },
   "file_extension": ".py",
   "mimetype": "text/x-python",
   "name": "python",
   "nbconvert_exporter": "python",
   "pygments_lexer": "ipython3",
   "version": "3.10.12"
  },
  "orig_nbformat": 4
 },
 "nbformat": 4,
 "nbformat_minor": 2
}
