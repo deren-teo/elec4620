{
 "cells": [
  {
   "cell_type": "markdown",
   "metadata": {},
   "source": [
    "# Question 4\n",
    "\n",
    "This script implements the double transform algorithm to apply the discrete\n",
    "Fourier transform to two real, N-point sequences using one complex N-point\n",
    "transform."
   ]
  },
  {
   "cell_type": "code",
   "execution_count": 15,
   "metadata": {},
   "outputs": [],
   "source": [
    "import numpy as np\n",
    "\n",
    "from scipy.fft import fft, ifft"
   ]
  },
  {
   "cell_type": "markdown",
   "metadata": {},
   "source": [
    "### Part A: Equal length sequences"
   ]
  },
  {
   "cell_type": "code",
   "execution_count": 16,
   "metadata": {},
   "outputs": [
    {
     "name": "stdout",
     "output_type": "stream",
     "text": [
      "DFT of x: [34.        -0.j         -1.87867966+6.53553391j -5.        +7.j\n",
      " -6.12132034+0.53553391j  0.        -0.j         -6.12132034-0.53553391j\n",
      " -5.        -7.j         -1.87867966-6.53553391j]\n",
      "DFT of y: [28.        -0.j          2.24264069+4.24264069j -2.        -2.j\n",
      " -6.24264069+4.24264069j -8.        -0.j         -6.24264069-4.24264069j\n",
      " -2.        +2.j          2.24264069-4.24264069j]\n"
     ]
    }
   ],
   "source": [
    "# Define the vectors\n",
    "x = np.array([1, 2, 4, 4, 5, 3, 7, 8])\n",
    "y = np.array([1, 5, 3, 1, 3, 5, 3, 7])\n",
    "\n",
    "print(\"DFT of x:\", fft(x))\n",
    "print(\"DFT of y:\", fft(y))"
   ]
  },
  {
   "cell_type": "code",
   "execution_count": 17,
   "metadata": {},
   "outputs": [
    {
     "name": "stdout",
     "output_type": "stream",
     "text": [
      "DFT of z: [ 34.        +28.j          -6.12132034 +8.77817459j\n",
      "  -3.         +5.j         -10.36396103 -5.70710678j\n",
      "   0.         -8.j          -1.87867966 -6.77817459j\n",
      "  -7.         -9.j           2.36396103 -4.29289322j]\n"
     ]
    }
   ],
   "source": [
    "# Combine x and y into a single complex vector and apply the FFT\n",
    "Z = fft(np.array([a+b*1j for a, b in zip(x, y)]))\n",
    "\n",
    "print(\"DFT of z:\", Z)"
   ]
  },
  {
   "cell_type": "code",
   "execution_count": 18,
   "metadata": {},
   "outputs": [
    {
     "name": "stdout",
     "output_type": "stream",
     "text": [
      "ev(np.real(Z)) = array([34.        , -1.87867966, -5.        , -6.12132034,  0.        ,\n",
      "       -6.12132034, -5.        , -1.87867966])\n",
      "od(np.imag(Z)) = array([ 0.        ,  6.53553391,  7.        ,  0.53553391,  0.        ,\n",
      "       -0.53553391, -7.        , -6.53553391])\n",
      "od(np.real(Z)) = array([ 0.        , -4.24264069,  2.        , -4.24264069,  0.        ,\n",
      "        4.24264069, -2.        ,  4.24264069])\n",
      "ev(np.imag(Z)) = array([28.        ,  2.24264069, -2.        , -6.24264069, -8.        ,\n",
      "       -6.24264069, -2.        ,  2.24264069])\n"
     ]
    }
   ],
   "source": [
    "# Extract the odd and even components of the real and imaginary parts of Z\n",
    "\n",
    "def ev(H: np.array) -> np.array:\n",
    "    \"\"\"\n",
    "    Returns the even component of the given sequence `H`.\n",
    "    \"\"\"\n",
    "    H_minus = np.concatenate([H[:1], H[-1:0:-1]])\n",
    "    return 0.5 * (H + H_minus)\n",
    "\n",
    "def od(H: np.array) -> np.array:\n",
    "    \"\"\"\n",
    "    Returns the odd component of the given sequence `H`.\n",
    "    \"\"\"\n",
    "    H_minus = np.concatenate([H[:1], H[-1:0:-1]])\n",
    "    return 0.5 * (H - H_minus)\n",
    "\n",
    "print(f\"{ev(np.real(Z)) = }\")\n",
    "print(f\"{od(np.imag(Z)) = }\")\n",
    "print(f\"{od(np.real(Z)) = }\")\n",
    "print(f\"{ev(np.imag(Z)) = }\")"
   ]
  },
  {
   "cell_type": "code",
   "execution_count": 19,
   "metadata": {},
   "outputs": [
    {
     "name": "stdout",
     "output_type": "stream",
     "text": [
      "X = array([34.        +0.j        , -1.87867966+6.53553391j,\n",
      "       -5.        +7.j        , -6.12132034+0.53553391j,\n",
      "        0.        +0.j        , -6.12132034-0.53553391j,\n",
      "       -5.        -7.j        , -1.87867966-6.53553391j])\n",
      "Y = array([28.        +0.j        ,  2.24264069+4.24264069j,\n",
      "       -2.        -2.j        , -6.24264069+4.24264069j,\n",
      "       -8.        +0.j        , -6.24264069-4.24264069j,\n",
      "       -2.        +2.j        ,  2.24264069-4.24264069j])\n"
     ]
    }
   ],
   "source": [
    "# Finally, reconstruct the DFTs of x and y\n",
    "X = ev(np.real(Z)) + 1j * od(np.imag(Z))\n",
    "Y = ev(np.imag(Z)) - 1j * od(np.real(Z))\n",
    "\n",
    "print(f\"{X = }\")\n",
    "print(f\"{Y = }\")"
   ]
  },
  {
   "cell_type": "code",
   "execution_count": 20,
   "metadata": {},
   "outputs": [
    {
     "name": "stdout",
     "output_type": "stream",
     "text": [
      "ifft(X) = array([1.+0.j, 2.+0.j, 4.+0.j, 4.+0.j, 5.+0.j, 3.+0.j, 7.+0.j, 8.+0.j])\n",
      "ifft(Y) = array([1.+0.j, 5.+0.j, 3.+0.j, 1.+0.j, 3.+0.j, 5.+0.j, 3.+0.j, 7.+0.j])\n"
     ]
    }
   ],
   "source": [
    "# Inverse Fourier transform X and Y to prove that they are correct\n",
    "print(f\"{ifft(X) = }\")\n",
    "print(f\"{ifft(Y) = }\")"
   ]
  },
  {
   "cell_type": "markdown",
   "metadata": {},
   "source": [
    "### Part B: Unequal length sequences"
   ]
  },
  {
   "cell_type": "code",
   "execution_count": 21,
   "metadata": {},
   "outputs": [
    {
     "name": "stdout",
     "output_type": "stream",
     "text": [
      "DFT of x: [34.        -0.j         -1.87867966+6.53553391j -5.        +7.j\n",
      " -6.12132034+0.53553391j  0.        -0.j         -6.12132034-0.53553391j\n",
      " -5.        -7.j         -1.87867966-6.53553391j]\n",
      "DFT of y: [21.        -0.j         -2.70710678-0.70710678j -2.        -9.j\n",
      " -1.29289322-0.70710678j -1.        -0.j         -1.29289322+0.70710678j\n",
      " -2.        +9.j         -2.70710678+0.70710678j]\n"
     ]
    }
   ],
   "source": [
    "# Define the vectors\n",
    "x = np.array([1, 2, 4, 4, 5, 3, 7, 8]) # this is the same x vector as part (a)\n",
    "y = np.array([1, 5, 3, 1, 3, 5, 3, 0]) # this y vector is already zero-padded\n",
    "\n",
    "print(\"DFT of x:\", fft(x))\n",
    "print(\"DFT of y:\", fft(y))"
   ]
  },
  {
   "cell_type": "code",
   "execution_count": 22,
   "metadata": {},
   "outputs": [
    {
     "name": "stdout",
     "output_type": "stream",
     "text": [
      "DFT of z: [ 34.        +21.j          -1.17157288 +3.82842712j\n",
      "   4.         +5.j          -5.41421356 -0.75735931j\n",
      "   0.         -1.j          -6.82842712 -1.82842712j\n",
      " -14.         -9.j          -2.58578644 -9.24264069j]\n"
     ]
    }
   ],
   "source": [
    "# Combine x and y into a single complex vector and apply the FFT\n",
    "Z = fft(np.array([a+b*1j for a, b in zip(x, y)]))\n",
    "\n",
    "print(\"DFT of z:\", Z)"
   ]
  },
  {
   "cell_type": "code",
   "execution_count": 23,
   "metadata": {},
   "outputs": [
    {
     "name": "stdout",
     "output_type": "stream",
     "text": [
      "ev(np.real(Z)) = array([34.        , -1.87867966, -5.        , -6.12132034,  0.        ,\n",
      "       -6.12132034, -5.        , -1.87867966])\n",
      "od(np.imag(Z)) = array([ 0.        ,  6.53553391,  7.        ,  0.53553391,  0.        ,\n",
      "       -0.53553391, -7.        , -6.53553391])\n",
      "od(np.real(Z)) = array([ 0.        ,  0.70710678,  9.        ,  0.70710678,  0.        ,\n",
      "       -0.70710678, -9.        , -0.70710678])\n",
      "ev(np.imag(Z)) = array([21.        , -2.70710678, -2.        , -1.29289322, -1.        ,\n",
      "       -1.29289322, -2.        , -2.70710678])\n"
     ]
    }
   ],
   "source": [
    "# Extract the odd and even components of the real and imaginary parts of Z\n",
    "print(f\"{ev(np.real(Z)) = }\")\n",
    "print(f\"{od(np.imag(Z)) = }\")\n",
    "print(f\"{od(np.real(Z)) = }\")\n",
    "print(f\"{ev(np.imag(Z)) = }\")"
   ]
  },
  {
   "cell_type": "code",
   "execution_count": 24,
   "metadata": {},
   "outputs": [
    {
     "name": "stdout",
     "output_type": "stream",
     "text": [
      "X = array([34.        +0.j        , -1.87867966+6.53553391j,\n",
      "       -5.        +7.j        , -6.12132034+0.53553391j,\n",
      "        0.        +0.j        , -6.12132034-0.53553391j,\n",
      "       -5.        -7.j        , -1.87867966-6.53553391j])\n",
      "Y = array([21.        +0.j        , -2.70710678-0.70710678j,\n",
      "       -2.        -9.j        , -1.29289322-0.70710678j,\n",
      "       -1.        +0.j        , -1.29289322+0.70710678j,\n",
      "       -2.        +9.j        , -2.70710678+0.70710678j])\n"
     ]
    }
   ],
   "source": [
    "# Finally, reconstruct the DFTs of x and y\n",
    "X = ev(np.real(Z)) + 1j * od(np.imag(Z))\n",
    "Y = ev(np.imag(Z)) - 1j * od(np.real(Z))\n",
    "\n",
    "print(f\"{X = }\")\n",
    "print(f\"{Y = }\")"
   ]
  },
  {
   "cell_type": "code",
   "execution_count": 25,
   "metadata": {},
   "outputs": [
    {
     "name": "stdout",
     "output_type": "stream",
     "text": [
      "ifft(X) = array([1.+0.j, 2.+0.j, 4.+0.j, 4.+0.j, 5.+0.j, 3.+0.j, 7.+0.j, 8.+0.j])\n",
      "ifft(Y) = array([ 1.00000000e+00+0.j,  5.00000000e+00+0.j,  3.00000000e+00+0.j,\n",
      "        1.00000000e+00+0.j,  3.00000000e+00+0.j,  5.00000000e+00+0.j,\n",
      "        3.00000000e+00+0.j, -1.11022302e-16+0.j])\n"
     ]
    }
   ],
   "source": [
    "# Inverse Fourier transform X and Y to prove that they are correct\n",
    "print(f\"{ifft(X) = }\")\n",
    "print(f\"{ifft(Y) = }\")"
   ]
  }
 ],
 "metadata": {
  "kernelspec": {
   "display_name": ".venv",
   "language": "python",
   "name": "python3"
  },
  "language_info": {
   "codemirror_mode": {
    "name": "ipython",
    "version": 3
   },
   "file_extension": ".py",
   "mimetype": "text/x-python",
   "name": "python",
   "nbconvert_exporter": "python",
   "pygments_lexer": "ipython3",
   "version": "3.10.12"
  },
  "orig_nbformat": 4
 },
 "nbformat": 4,
 "nbformat_minor": 2
}
