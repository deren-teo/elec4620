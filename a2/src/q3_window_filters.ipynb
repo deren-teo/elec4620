{
 "cells": [
  {
   "cell_type": "markdown",
   "metadata": {},
   "source": [
    "# Question 3\n",
    "\n",
    "This script compares a band pass FIR filter filter designed using the windowing method with an optimal filter designed using the Parks-McClellan method (Remez exchange algorithm)."
   ]
  },
  {
   "cell_type": "code",
   "execution_count": null,
   "metadata": {},
   "outputs": [],
   "source": [
    "from pathlib import Path\n",
    "\n",
    "import matplotlib.pyplot as plt\n",
    "import numpy as np\n",
    "import seaborn as sns\n",
    "\n",
    "from a2_config import A2_ROOT, SAVEFIG_CONFIG"
   ]
  },
  {
   "cell_type": "code",
   "execution_count": null,
   "metadata": {},
   "outputs": [],
   "source": [
    "# Define filter specifications\n",
    "\n",
    "F_SAMP  = 40        # sampling frequency, kHz\n",
    "PASS_BAND = [4, 6]  # pass band, kHz\n",
    "DELTA_F = 1         # transition width, kHz\n",
    "A_STOP  = 60        # stop band attenuation, dB"
   ]
  },
  {
   "cell_type": "markdown",
   "metadata": {},
   "source": [
    "### Windowing Method"
   ]
  },
  {
   "cell_type": "code",
   "execution_count": null,
   "metadata": {},
   "outputs": [],
   "source": [
    "# Initial estimate of filter length using Harris formula\n",
    "N = int(np.ceil((F_SAMP / DELTA_F) * (A_STOP / 22)))\n",
    "print(\"Filter length estimate:\", N)"
   ]
  },
  {
   "cell_type": "markdown",
   "metadata": {},
   "source": [
    "Create the frequency domain vector, $V$, which represents the ideal frequency response."
   ]
  },
  {
   "cell_type": "code",
   "execution_count": null,
   "metadata": {},
   "outputs": [],
   "source": [
    "# Calculate pass band width, L\n",
    "L = int(np.round(N * (PASS_BAND[1] - PASS_BAND[0]) / F_SAMP))\n",
    "print(\"Bins in passband:\", L)\n",
    "\n",
    "# Construct V, with 1's in the pass band and 0's in the stop band\n",
    "L_idx = np.where(np.linspace(0, F_SAMP, N) >= PASS_BAND[0])[0][0]\n",
    "V = np.zeros(N//2)\n",
    "V[L_idx:L_idx+L] = np.ones(L)\n",
    "V = np.concatenate([V, V[::-1]])\n",
    "\n",
    "# Construct a frequency axis for plotting\n",
    "f = np.linspace(0, F_SAMP, N)\n",
    "\n",
    "# Plot the ideal frequency response, represented by vector V\n",
    "fig, ax = plt.subplots(figsize=(6, 2))\n",
    "fig.tight_layout()\n",
    "\n",
    "palette = sns.color_palette()\n",
    "\n",
    "sns.lineplot(x=f[:N//2], y=V[:N//2], ax=ax, c=palette[0], ls=\"-\")\n",
    "sns.lineplot(x=f[N//2:], y=V[N//2:], ax=ax, c=palette[0], ls=\"--\")\n",
    "\n",
    "ax.set_xlabel(\"Frequency (kHz)\")\n",
    "ax.set_ylabel(\"Gain\")\n",
    "\n",
    "fname = Path(A2_ROOT, \"output\", \"q3_ideal_freqz.png\")\n",
    "fig.savefig(fname, **SAVEFIG_CONFIG)"
   ]
  },
  {
   "cell_type": "code",
   "execution_count": null,
   "metadata": {},
   "outputs": [],
   "source": [
    "from scipy.fft import fft, fftshift, ifft\n",
    "\n",
    "# Impulse (time) response of ideal filter\n",
    "v = fftshift(ifft(V))\n",
    "\n",
    "# Plot the ideal impulse response\n",
    "fig, ax = plt.subplots(figsize=(6, 2))\n",
    "fig.tight_layout()\n",
    "\n",
    "t = np.linspace(0, N / F_SAMP, N)\n",
    "sns.lineplot(x=t, y=v.real, ax=ax)\n",
    "\n",
    "ax.set_xlabel(\"Time (ms)\")\n",
    "ax.set_ylabel(\"Response\")\n",
    "\n",
    "fname = Path(A2_ROOT, \"output\", \"q3_ideal_impz.png\")\n",
    "fig.savefig(fname, **SAVEFIG_CONFIG)"
   ]
  },
  {
   "cell_type": "code",
   "execution_count": null,
   "metadata": {},
   "outputs": [],
   "source": [
    "# Helper function for converting frequency response to dB scale\n",
    "dB = lambda x: 20 * np.log10(x)\n",
    "\n",
    "def plot_freqz(w, h, ax=None, fname=None, save=False):\n",
    "    \"\"\"Plot frequency response and overlay filter requirements.\"\"\"\n",
    "    if ax is None:\n",
    "        fig, ax = plt.subplots(figsize=(6, 3))\n",
    "        fig.tight_layout()\n",
    "        axes_local = True\n",
    "    else:\n",
    "        axes_local = False\n",
    "    sns.lineplot(x=w, y=dB(np.abs(h)), ax=ax)\n",
    "    # Plot stop band requirement\n",
    "    ax.axhline(-60, c=\"r\", lw=0.5, label=\"Stop band requirement\")\n",
    "    ax.axvline(  3, c=\"r\", lw=0.5)\n",
    "    ax.axvline(  7, c=\"r\", lw=0.5)\n",
    "    # Plot pass band requirement\n",
    "    ax.axhline( -1, c=\"g\", lw=0.5, label=\"Pass band requirement\")\n",
    "    ax.axvline(  4, c=\"g\", lw=0.5)\n",
    "    ax.axvline(  6, c=\"g\", lw=0.5)\n",
    "    # Axis labels\n",
    "    ax.set_xlabel(\"Frequency (kHz)\")\n",
    "    ax.set_ylabel(\"Gain (dB)\")\n",
    "    ax.legend(framealpha=1)\n",
    "    # Save or just show\n",
    "    if save:\n",
    "        if not axes_local:\n",
    "            raise RuntimeError(\"save is True but axes were not created locally\")\n",
    "        if not fname:\n",
    "            raise RuntimeError(\"save is True but no file name was provided\")\n",
    "        fig.savefig(Path(A2_ROOT, \"output\", fname), **SAVEFIG_CONFIG)\n",
    "    if axes_local:\n",
    "        plt.show()"
   ]
  },
  {
   "cell_type": "code",
   "execution_count": null,
   "metadata": {},
   "outputs": [],
   "source": [
    "from scipy.signal.windows import bartlett, blackman, boxcar, hann\n",
    "\n",
    "V_boxcar   = np.round(np.abs(fft(v * boxcar(N),   512)[:256]), decimals=10)\n",
    "V_bartlett = np.round(np.abs(fft(v * bartlett(N), 512)[:256]), decimals=10)\n",
    "V_hann     = np.round(np.abs(fft(v * hann(N),     512)[:256]), decimals=10)\n",
    "V_blackman = np.round(np.abs(fft(v * blackman(N), 512)[:256]), decimals=10)\n",
    "\n",
    "# Construct a frequency axis for plotting\n",
    "f = np.linspace(0, F_SAMP / 2, 256)\n",
    "\n",
    "# Plot the comparison\n",
    "fig, axs = plt.subplots(4, figsize=(6, 6), sharex=True)\n",
    "fig.tight_layout()\n",
    "\n",
    "plot_freqz(f, V_boxcar,   ax=axs[0])\n",
    "plot_freqz(f, V_bartlett, ax=axs[1])\n",
    "plot_freqz(f, V_hann,     ax=axs[2])\n",
    "plot_freqz(f, V_blackman, ax=axs[3])\n",
    "\n",
    "fname = Path(A2_ROOT, \"output\", \"q3_window_freqzs.png\")\n",
    "fig.savefig(fname, **SAVEFIG_CONFIG)"
   ]
  },
  {
   "cell_type": "code",
   "execution_count": null,
   "metadata": {},
   "outputs": [],
   "source": [
    "# Increase N until roll-off specification is met\n",
    "N = 150\n",
    "\n",
    "L = int(np.round(N * (PASS_BAND[1] - PASS_BAND[0]) / F_SAMP)) + 1\n",
    "L_idx = np.where(np.linspace(0, F_SAMP, N) >= PASS_BAND[0])[0][0]\n",
    "V = np.zeros(N//2)\n",
    "V[L_idx:L_idx+L] = np.ones(L)\n",
    "V = np.concatenate([V, V[::-1]])\n",
    "\n",
    "v = fftshift(ifft(V))\n",
    "V_blackman = np.round(np.abs(fft(v * blackman(N), 512)[:256]), decimals=10)\n",
    "\n",
    "plot_freqz(f, V_blackman, fname=\"q3_blackman_freqz.png\", save=True)"
   ]
  },
  {
   "cell_type": "markdown",
   "metadata": {},
   "source": [
    "### Parks-McClellan Method"
   ]
  },
  {
   "cell_type": "code",
   "execution_count": null,
   "metadata": {},
   "outputs": [],
   "source": [
    "# Optimal filter design using Parks-McClellan method (Remez exchange algorithm)\n",
    "import scipy.signal as signal\n",
    "\n",
    "numtaps = 140\n",
    "edges = [0, PASS_BAND[0] - DELTA_F] + PASS_BAND + \\\n",
    "        [PASS_BAND[1] + DELTA_F, 0.5 * F_SAMP]\n",
    "taps = signal.remez(numtaps, edges, [0, 1, 0], fs=F_SAMP)\n",
    "w, h = signal.freqz(taps, [1], fs=F_SAMP)\n",
    "plot_freqz(w, h, fname=\"q3_optimal_freqz.png\", save=True)"
   ]
  }
 ],
 "metadata": {
  "kernelspec": {
   "display_name": ".venv",
   "language": "python",
   "name": "python3"
  },
  "language_info": {
   "codemirror_mode": {
    "name": "ipython",
    "version": 3
   },
   "file_extension": ".py",
   "mimetype": "text/x-python",
   "name": "python",
   "nbconvert_exporter": "python",
   "pygments_lexer": "ipython3",
   "version": "3.11.1"
  },
  "orig_nbformat": 4
 },
 "nbformat": 4,
 "nbformat_minor": 2
}
