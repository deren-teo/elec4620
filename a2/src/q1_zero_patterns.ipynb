{
 "cells": [
  {
   "cell_type": "markdown",
   "metadata": {},
   "source": [
    "# Question 1\n",
    "\n",
    "This script visualises examples of the five zero patterns of a real-valued linear phase FIR filter."
   ]
  },
  {
   "cell_type": "code",
   "execution_count": null,
   "metadata": {},
   "outputs": [],
   "source": [
    "from pathlib import Path\n",
    "\n",
    "import matplotlib.pyplot as plt\n",
    "import numpy as np\n",
    "import seaborn as sns\n",
    "\n",
    "from matplotlib.patches import Circle\n",
    "from numpy import cos as c\n",
    "from numpy import sin as s\n",
    "\n",
    "from a2_config import A2_ROOT, SAVEFIG_CONFIG"
   ]
  },
  {
   "cell_type": "code",
   "execution_count": null,
   "metadata": {},
   "outputs": [],
   "source": [
    "palette = sns.color_palette(\"hls\", n_colors=5)\n",
    "\n",
    "fig, ax = plt.subplots(figsize=(6, 6))\n",
    "fig.tight_layout()\n",
    "\n",
    "# Plot the various zero pattern examples\n",
    "sns.scatterplot(x=[1], y=[0], ax=ax, color=palette[0], zorder=2,\n",
    "    label=\"Single zero at $z=1$\")\n",
    "\n",
    "sns.scatterplot(x=[-1], y=[0], ax=ax, color=palette[1], zorder=2,\n",
    "    label=\"Single zero at $z=-1$\")\n",
    "\n",
    "sns.scatterplot(x=[1.5, 1/1.5], y=[0, 0], ax=ax, color=palette[2], zorder=2,\n",
    "    label=\"Reciprocal pair on the real axis\")\n",
    "\n",
    "arg = np.pi / 3\n",
    "sns.scatterplot(x=c([arg, arg]), y=s([-arg, arg]), ax=ax, \n",
    "    color=palette[3], zorder=2, label=\"Conjugate pair on the unit circle\")\n",
    "\n",
    "mag = 1.6\n",
    "arg = 3 * np.pi / 4\n",
    "real = [c(arg) / mag, c(arg) / mag, mag * c(arg), mag * c(arg)]\n",
    "imag = [-s(arg) / mag, s(arg) / mag, -mag * s(arg), mag * s(arg)]\n",
    "sns.scatterplot(x=real, y=imag, ax=ax, color=palette[4],  zorder=2,\n",
    "    label=\"Reciprocal conjugate quad\")\n",
    "\n",
    "# Configure the plot\n",
    "ax.set_xlabel(\"Real\")\n",
    "ax.set_ylabel(\"Imag\")\n",
    "ax.set_aspect(\"equal\")\n",
    "ax.set_xlim([-2.0, 2.0])\n",
    "ax.set_ylim([-2.5, 1.5])\n",
    "ax.legend(loc=\"lower center\")\n",
    "\n",
    "# Draw the unit circle and axes as an underlay\n",
    "underlay_style = {\"ls\": \"dotted\", \"lw\": 0.9, \"color\": \"cadetblue\", \"zorder\": 1}\n",
    "unit_circle = Circle(xy=(0, 0), radius=1, fill=False, **underlay_style)\n",
    "ax.add_patch(unit_circle)\n",
    "ax.axhline(0, **underlay_style)\n",
    "ax.axvline(0, **underlay_style)\n",
    "\n",
    "fname = Path(A2_ROOT, \"output\", \"q1_zero_patterns.png\")\n",
    "fig.savefig(fname, **SAVEFIG_CONFIG)"
   ]
  }
 ],
 "metadata": {
  "kernelspec": {
   "display_name": ".venv",
   "language": "python",
   "name": "python3"
  },
  "language_info": {
   "codemirror_mode": {
    "name": "ipython",
    "version": 3
   },
   "file_extension": ".py",
   "mimetype": "text/x-python",
   "name": "python",
   "nbconvert_exporter": "python",
   "pygments_lexer": "ipython3",
   "version": "3.10.12"
  },
  "orig_nbformat": 4
 },
 "nbformat": 4,
 "nbformat_minor": 2
}
