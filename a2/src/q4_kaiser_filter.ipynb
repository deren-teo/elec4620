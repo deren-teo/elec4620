{
 "cells": [
  {
   "cell_type": "markdown",
   "metadata": {},
   "source": [
    "# Question 4\n",
    "\n",
    "This script compares a high pass Kaiser-windowed FIR filter designed using the windowing method with an optimal filter designed using the Parks-McClellan method (Remez exchange algorithm)."
   ]
  },
  {
   "cell_type": "code",
   "execution_count": null,
   "metadata": {},
   "outputs": [],
   "source": [
    "from pathlib import Path\n",
    "\n",
    "import matplotlib.pyplot as plt\n",
    "import numpy as np\n",
    "import seaborn as sns\n",
    "\n",
    "from a2_config import A2_ROOT, SAVEFIG_CONFIG"
   ]
  },
  {
   "cell_type": "code",
   "execution_count": null,
   "metadata": {},
   "outputs": [],
   "source": [
    "# Define filter specifications\n",
    "\n",
    "F_SAMP  = 50    # sampling frequency, kHz\n",
    "F_STOP  = 10    # stop band end, kHz\n",
    "F_PASS  = 12    # pass band start, kHz\n",
    "A_STOP  = 80    # stop band attenuation, dB\n",
    "A_PASS  = 3     # pass band attenuation, dB"
   ]
  },
  {
   "cell_type": "markdown",
   "metadata": {},
   "source": [
    "### Windowing Method"
   ]
  },
  {
   "cell_type": "code",
   "execution_count": null,
   "metadata": {},
   "outputs": [],
   "source": [
    "ripple_p = 1 - np.power(10, -A_PASS / 20)\n",
    "ripple_s = np.power(10, -A_STOP / 20)\n",
    "print(\"Maximum pass band ripple:\", ripple_p)\n",
    "print(\"Maximum stop band ripple:\", ripple_s)\n",
    "\n",
    "A = -20 * np.log10(min(ripple_p, ripple_s))\n",
    "print(\"Required attenuation:\", A, \"dB\")"
   ]
  },
  {
   "cell_type": "code",
   "execution_count": null,
   "metadata": {},
   "outputs": [],
   "source": [
    "# Kaiser window filter length estimate\n",
    "N = int(np.ceil((A - 7.95)/(14.36 * ((F_PASS - F_STOP) / F_SAMP))))\n",
    "print(\"Filter length estimate:\", N)\n",
    "\n",
    "beta = 0.1102 * (A - 8.7)\n",
    "print(\"Kaiser window beta:\", beta)"
   ]
  },
  {
   "cell_type": "markdown",
   "metadata": {},
   "source": [
    "Create the frequency domain vector, $V$, which represents the ideal frequency response."
   ]
  },
  {
   "cell_type": "code",
   "execution_count": null,
   "metadata": {},
   "outputs": [],
   "source": [
    "# Calculate pass band width, L\n",
    "L = int(np.round(N * (0.5 * F_SAMP - F_PASS) / F_SAMP))\n",
    "print(\"Bins in passband:\", L)\n",
    "\n",
    "# Construct V, with 1's in the pass band and 0's in the stop band\n",
    "V = np.zeros(N//2)\n",
    "V[-L:] = np.ones(L)\n",
    "V = np.concatenate([V, np.flip(V)])\n",
    "\n",
    "# Construct a frequency axis for plotting\n",
    "f = np.linspace(0, F_SAMP, N)\n",
    "\n",
    "# Plot ideal frequency response, represented by vector V\n",
    "fig, ax = plt.subplots(figsize=(6, 2))\n",
    "fig.tight_layout()\n",
    "\n",
    "palette = sns.color_palette()\n",
    "\n",
    "sns.lineplot(x=f[:N//2], y=V[:N//2], ax=ax, c=palette[0], ls=\"-\")\n",
    "sns.lineplot(x=f[N//2:], y=V[N//2:], ax=ax, c=palette[0], ls=\"--\")\n",
    "\n",
    "ax.set_xlabel(\"Frequency (kHz)\")\n",
    "ax.set_ylabel(\"Gain\")\n",
    "\n",
    "fname = Path(A2_ROOT, \"output\", \"q4_ideal_freqz.png\")\n",
    "fig.savefig(fname, **SAVEFIG_CONFIG)"
   ]
  },
  {
   "cell_type": "code",
   "execution_count": null,
   "metadata": {},
   "outputs": [],
   "source": [
    "from scipy.fft import fft, fftshift, ifft\n",
    "\n",
    "# Impulse (time) response of ideal filter\n",
    "v = fftshift(ifft(V))\n",
    "\n",
    "# Plot the ideal impulse response\n",
    "fig, ax = plt.subplots(figsize=(6, 2))\n",
    "fig.tight_layout()\n",
    "\n",
    "t = np.linspace(0, N / F_SAMP, N)\n",
    "sns.lineplot(x=t, y=v.real, ax=ax)\n",
    "\n",
    "ax.set_xlabel(\"Time (ms)\")\n",
    "ax.set_ylabel(\"Response\")\n",
    "\n",
    "fname = Path(A2_ROOT, \"output\", \"q4_ideal_impz.png\")\n",
    "fig.savefig(fname, **SAVEFIG_CONFIG)"
   ]
  },
  {
   "cell_type": "code",
   "execution_count": null,
   "metadata": {},
   "outputs": [],
   "source": [
    "# Helper function for converting frequency response to dB scale\n",
    "dB = lambda x: 20 * np.log10(x)\n",
    "\n",
    "def plot_freqz(w, h, fname=None, save=False):\n",
    "    \"\"\"Plot frequency response and overlay filter requirements.\"\"\"\n",
    "    fig, ax = plt.subplots(figsize=(6, 3))\n",
    "    fig.tight_layout()\n",
    "    sns.lineplot(x=w, y=dB(np.abs(h)), ax=ax)\n",
    "    # Plot stop band requirement\n",
    "    ax.axhline(-80, c=\"r\", lw=0.5, label=\"Stop band requirement\")\n",
    "    ax.axvline( 10, c=\"r\", lw=0.5)\n",
    "    # Plot pass band requirement\n",
    "    ax.axhline( -3, c=\"g\", lw=0.5, label=\"Pass band requirement\")\n",
    "    ax.axvline( 12, c=\"g\", lw=0.5)\n",
    "    # Axis labels\n",
    "    ax.set_xlabel(\"Frequency (kHz)\")\n",
    "    ax.set_ylabel(\"Gain (dB)\")\n",
    "    ax.legend(framealpha=1)\n",
    "    # Save or just show\n",
    "    if save:\n",
    "        if not fname:\n",
    "            raise ValueError(\"save is True but no file name was provided\")\n",
    "        fig.savefig(Path(A2_ROOT, \"output\", fname), **SAVEFIG_CONFIG)\n",
    "    plt.show()"
   ]
  },
  {
   "cell_type": "code",
   "execution_count": null,
   "metadata": {},
   "outputs": [],
   "source": [
    "from scipy.signal.windows import kaiser\n",
    "\n",
    "f = np.linspace(0, F_SAMP / 2, 256)\n",
    "V_kaiser = fft(v * kaiser(N, beta), 512)[:256]\n",
    "\n",
    "plot_freqz(f, V_kaiser, fname=\"q4_kaiser_freqz.png\", save=True)"
   ]
  },
  {
   "cell_type": "markdown",
   "metadata": {},
   "source": [
    "### Parks-McClellan Method"
   ]
  },
  {
   "cell_type": "code",
   "execution_count": null,
   "metadata": {},
   "outputs": [],
   "source": [
    "# Optimal filter design using Parks-McClellan method (Remez exchange algorithm)\n",
    "import scipy.signal as signal\n",
    "\n",
    "numtaps = 119\n",
    "edges = [0, F_STOP, F_PASS, 0.5 * F_SAMP]\n",
    "taps = signal.remez(numtaps, edges, [0, 1], fs=F_SAMP)\n",
    "w, h = signal.freqz(taps, [1], fs=F_SAMP)\n",
    "plot_freqz(w, h, fname=\"q4_optimal_freqz.png\", save=True)"
   ]
  }
 ],
 "metadata": {
  "kernelspec": {
   "display_name": ".venv",
   "language": "python",
   "name": "python3"
  },
  "language_info": {
   "codemirror_mode": {
    "name": "ipython",
    "version": 3
   },
   "file_extension": ".py",
   "mimetype": "text/x-python",
   "name": "python",
   "nbconvert_exporter": "python",
   "pygments_lexer": "ipython3",
   "version": "3.10.12"
  },
  "orig_nbformat": 4
 },
 "nbformat": 4,
 "nbformat_minor": 2
}
