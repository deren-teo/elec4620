{
 "cells": [
  {
   "cell_type": "markdown",
   "metadata": {},
   "source": [
    "# Questions 7 & 8\n",
    "\n",
    "This script designs low pass Butterworth filters, of order varying from 4th to 8th, to meet a given specification. The script examines the stability of the filters and also the effects of 16-bit quantisation."
   ]
  },
  {
   "cell_type": "code",
   "execution_count": null,
   "metadata": {},
   "outputs": [],
   "source": [
    "from pathlib import Path\n",
    "\n",
    "import matplotlib.pyplot as plt\n",
    "import numpy as np\n",
    "import seaborn as sns\n",
    "\n",
    "from a2_config import A2_ROOT, SAVEFIG_CONFIG"
   ]
  },
  {
   "cell_type": "markdown",
   "metadata": {},
   "source": [
    "### Filter Design"
   ]
  },
  {
   "cell_type": "code",
   "execution_count": null,
   "metadata": {},
   "outputs": [],
   "source": [
    "# Define filter specifications\n",
    "\n",
    "F_S = 30    # sampling frequency, kHz\n",
    "F_C =  3    # cutoff frequency, kHz"
   ]
  },
  {
   "cell_type": "code",
   "execution_count": null,
   "metadata": {},
   "outputs": [],
   "source": [
    "# Define utility functions for displaying frequency response and pole-zero plots\n",
    "import scipy.signal as signal\n",
    "from matplotlib.patches import Circle\n",
    "\n",
    "def plot_freqz(w, h, axs=None, fname=None, color=\"C0\", ls=\"-\", label=None):\n",
    "    \"\"\"Plot frequency response and overlay filter requirements.\"\"\"\n",
    "    if axs is None:\n",
    "        fig, axs = plt.subplots(2, sharex=True, figsize=(6, 4))\n",
    "        fig.tight_layout()\n",
    "    else:\n",
    "        fig = None\n",
    "    sns.lineplot(x=w, y=np.abs(h), ax=axs[0], c=color, ls=ls, label=label)\n",
    "    sns.lineplot(x=w, y=np.angle(h), ax=axs[1], c=color, ls=ls)\n",
    "    # Axis labels\n",
    "    axs[0].set_ylabel(\"Gain\")\n",
    "    if label:\n",
    "        axs[0].legend(loc=\"upper right\", framealpha=1)\n",
    "    axs[1].set_xlabel(\"Frequency (kHz)\")\n",
    "    axs[1].set_ylabel(\"Phase (rad)\")\n",
    "    axs[1].set_yticks([-np.pi, 0, np.pi])\n",
    "    axs[1].set_yticklabels([\"$-\\pi$\", \"0\", \"$\\pi$\"])\n",
    "    # Save or just show\n",
    "    if fig and fname:\n",
    "        fig.savefig(Path(A2_ROOT, \"output\", fname), **SAVEFIG_CONFIG)\n",
    "    if fig:\n",
    "        plt.show()\n",
    "\n",
    "def zplane(b, a, ax=None, fname=None, color=\"C0\", label=None):\n",
    "    \"\"\"\n",
    "    Plot poles and zeros from numerator and denominator of transfer function.\n",
    "    \"\"\"\n",
    "    z, p, _ = signal.tf2zpk(b, a)\n",
    "    if ax is None:\n",
    "        fig, ax = plt.subplots(figsize=(5, 4))\n",
    "        fig.tight_layout()\n",
    "    else:\n",
    "        fig = None\n",
    "    ax.set_aspect(\"equal\")\n",
    "    # Axes and unit circle\n",
    "    ax.add_patch(Circle((0, 0), 1, fill=False, color=\"k\", ls=\":\", lw=0.5))\n",
    "    ax.autoscale()\n",
    "    ax.axhline(0, c=\"k\", ls=\":\", lw=0.5)\n",
    "    ax.axvline(0, c=\"k\", ls=\":\", lw=0.5)\n",
    "    # Poles and zeros\n",
    "    sns.scatterplot(\n",
    "        x=z.real, y=z.imag, ax=ax, marker=\"o\", edgecolor=color, facecolor=\"none\")\n",
    "    sns.scatterplot(\n",
    "        x=p.real, y=p.imag, ax=ax, marker=\"x\", lw=2, color=color, label=label)\n",
    "    # Axis labels\n",
    "    ax.set_xlabel(\"Real\")\n",
    "    ax.set_ylabel(\"Imaginary\")\n",
    "    if label:\n",
    "        ax.legend(loc=\"upper left\", framealpha=1)\n",
    "    if fig and fname:\n",
    "        fig.savefig(Path(A2_ROOT, \"output\", fname), **SAVEFIG_CONFIG)\n",
    "    if fig:\n",
    "        plt.show()"
   ]
  },
  {
   "cell_type": "code",
   "execution_count": null,
   "metadata": {},
   "outputs": [],
   "source": [
    "# Design 4th order Butterworth filter\n",
    "b, a = signal.butter(4, F_C, btype=\"low\", fs=F_S)\n",
    "w, h = signal.freqz(b, a, fs=F_S)\n",
    "plot_freqz(w, h, fname=\"q7_4th_freqz.png\")\n",
    "zplane(b, a, fname=\"q7_4th_zp.png\")"
   ]
  },
  {
   "cell_type": "code",
   "execution_count": null,
   "metadata": {},
   "outputs": [],
   "source": [
    "# Quantize the transfer function coefficients to 16 bits (15-bit mantissa)\n",
    "\n",
    "def quantize(x, m):\n",
    "    \"\"\"Returns the given array quantised to m bits ([m-1]-bit mantissa).\"\"\"\n",
    "    norm_factor = 2 * max(np.abs(x))\n",
    "    xq = np.abs(x) / norm_factor + 0.5\n",
    "    xq = np.round(xq * (1 << (m - 1))) / (1 << (m - 1))\n",
    "    xq = np.sign(x) * (xq - 0.5) * norm_factor\n",
    "    return xq\n",
    "\n",
    "def tf_quantize(b, a, m=16):\n",
    "    \"\"\"Returns the given transfer function coefficients quantised to 16 bits.\"\"\"\n",
    "    return quantize(b, m), quantize(a, m)"
   ]
  },
  {
   "cell_type": "code",
   "execution_count": null,
   "metadata": {},
   "outputs": [],
   "source": [
    "# Quantize coefficients of 4th-order filter and observe differences\n",
    "bq, aq = tf_quantize(b, a)\n",
    "wq, hq = signal.freqz(bq, aq, fs=F_S)\n",
    "plot_freqz(wq, hq, fname=\"q7_q4th_freqz.png\")\n",
    "zplane(bq, aq, fname=\"q7_q4th_zp.png\")"
   ]
  },
  {
   "cell_type": "markdown",
   "metadata": {},
   "source": [
    "### Filter Testing"
   ]
  },
  {
   "cell_type": "code",
   "execution_count": null,
   "metadata": {},
   "outputs": [],
   "source": [
    "import pandas as pd\n",
    "import scipy.fft as fft\n",
    "\n",
    "# Helper function for converting frequency response to dB scale\n",
    "dB = lambda x: 20 * np.log10(x)\n",
    "\n",
    "def test_filter(b, a, n_trials=10, seed=42, fname=None, figsize=(6, 4)):\n",
    "    \"\"\"\n",
    "    Applies the filter to noise vectors and plots before and after time and\n",
    "    frequency plots. Provides experimental insight into filter stability.\n",
    "    \"\"\"\n",
    "    t = np.linspace(0, 100/3, 100, endpoint=False)\n",
    "    f = fft.fftfreq(200, 1/F_S)[:100]\n",
    "    ones = np.ones(100)\n",
    "    agg = []\n",
    "    np.random.seed(seed)\n",
    "    for i in range(n_trials):\n",
    "        x = np.random.rand(100) - 0.5\n",
    "        z = signal.lfilter(b, a, x)\n",
    "        xfft = dB(np.abs(fft.fft(x, n=200)[:100]))\n",
    "        zfft = dB(np.abs(fft.fft(z, n=200)[:100]))\n",
    "        agg.append(np.array([t, f, ones * i, xfft, zfft, x, z]))\n",
    "    columns = [\"Time\", \"Freq\", \"Trial\", \"FFT_In\", \"FFT_Out\", \"In\", \"Out\"]\n",
    "    agg = pd.DataFrame(np.hstack(agg).T, columns=columns)\n",
    "    fig, axs = plt.subplots(2, figsize=figsize)\n",
    "    fig.tight_layout()\n",
    "    # Frequency plot\n",
    "    sns.lineplot(\n",
    "        data=agg, x=\"Freq\", y=\"FFT_In\", ax=axs[0], label=\"Input noise\")\n",
    "    sns.lineplot(\n",
    "        data=agg, x=\"Freq\", y=\"FFT_Out\", ax=axs[0], label=\"Filtered signal\")\n",
    "    # Time plot\n",
    "    sns.lineplot(data=agg, x=\"Time\", y=\"In\", ax=axs[1], label=\"Input noise\")\n",
    "    sns.lineplot(data=agg, x=\"Time\", y=\"Out\", ax=axs[1], label=\"Filtered signal\")\n",
    "    # Axis labels\n",
    "    axs[0].set_xlabel(\"Frequency (kHz)\")\n",
    "    axs[0].set_ylabel(\"Gain (dB)\")\n",
    "    axs[0].legend(loc=\"upper right\", framealpha=1)\n",
    "    axs[1].set_xlabel(\"Time (ms)\")\n",
    "    axs[1].set_ylabel(\"Response\")\n",
    "    axs[1].legend(loc=\"upper right\", framealpha=1)\n",
    "    if fname:\n",
    "        fig.savefig(Path(A2_ROOT, \"output\", fname), **SAVEFIG_CONFIG)\n",
    "    plt.show()\n",
    "\n",
    "# Test the filter on several zero-mean random sequences and plot the outputs\n",
    "test_filter(b, a, n_trials=25, fname=\"q7_4th_stability.png\")\n",
    "test_filter(bq, aq, n_trials=25, fname=\"q7_q4th_stability.png\")"
   ]
  },
  {
   "cell_type": "markdown",
   "metadata": {},
   "source": [
    "### Repeat with Higher Order Filters"
   ]
  },
  {
   "cell_type": "code",
   "execution_count": null,
   "metadata": {},
   "outputs": [],
   "source": [
    "def repeat_everything(filter_order, save=False):\n",
    "    # Pre-define some figures and axes for compactness\n",
    "    freqz_fig, freqz_axs = plt.subplots(2, figsize=(6, 4))\n",
    "    freqz_fig.tight_layout()\n",
    "    zp_fig, zp_ax = plt.subplots(figsize=(5, 4))\n",
    "    zp_fig.tight_layout()\n",
    "    # Filter design\n",
    "    b, a = signal.butter(filter_order, F_C, btype=\"low\", fs=F_S)\n",
    "    w, h = signal.freqz(b, a, fs=F_S)\n",
    "    plot_freqz(w, h, axs=freqz_axs, label=\"Full Precision\")\n",
    "    zplane(b, a, ax=zp_ax, label=\"Full Precision\")\n",
    "    # Quantization\n",
    "    bq, aq = tf_quantize(b, a)\n",
    "    wq, hq = signal.freqz(bq, aq, fs=F_S)\n",
    "    plot_freqz(wq, hq, axs=freqz_axs, color=\"C1\", ls=\"--\", label=\"Quantized\")\n",
    "    zplane(bq, aq, ax=zp_ax, color=\"C1\", label=\"Quantized\")\n",
    "    # Save figures on pre-defined axes\n",
    "    if save:\n",
    "        freqz_fname = Path(A2_ROOT, \"output\", f\"q8_{filter_order}th_freqz.png\")\n",
    "        freqz_fig.savefig(freqz_fname, **SAVEFIG_CONFIG)\n",
    "        zp_fname = Path(A2_ROOT, \"output\", f\"q8_{filter_order}th_zp.png\")\n",
    "        zp_fig.savefig(zp_fname, **SAVEFIG_CONFIG)\n",
    "    # Random testing\n",
    "    test_filter(b, a, n_trials=25, fname=f\"q8_{filter_order}th_stability.png\", \n",
    "        figsize=(9.6, 4))\n",
    "    test_filter(bq, aq, n_trials=25, fname=f\"q8_q{filter_order}th_stability.png\", \n",
    "        figsize=(9.6, 4))\n",
    "\n",
    "repeat_everything(filter_order=5, save=True)"
   ]
  },
  {
   "cell_type": "code",
   "execution_count": null,
   "metadata": {},
   "outputs": [],
   "source": [
    "repeat_everything(filter_order=6, save=True)"
   ]
  },
  {
   "cell_type": "code",
   "execution_count": null,
   "metadata": {},
   "outputs": [],
   "source": [
    "repeat_everything(filter_order=7, save=True)"
   ]
  },
  {
   "cell_type": "code",
   "execution_count": null,
   "metadata": {},
   "outputs": [],
   "source": [
    "repeat_everything(filter_order=8, save=True)"
   ]
  },
  {
   "cell_type": "markdown",
   "metadata": {},
   "source": [
    "### How High Can We Go?\n",
    "\n",
    "What is the maximum stable filter order, both before and after quantization?"
   ]
  },
  {
   "cell_type": "code",
   "execution_count": null,
   "metadata": {},
   "outputs": [],
   "source": [
    "def is_stable(b, a, quantize=False):\n",
    "    \"\"\"\n",
    "    Uses the roots of the numerator of a transfer function to determine\n",
    "    infer stability.\n",
    "    \"\"\"\n",
    "    if quantize:\n",
    "        b, a = tf_quantize(b, a)\n",
    "    _, p, _ = signal.tf2zpk(b, a)\n",
    "    return all(np.abs(p) < 1)\n",
    "\n",
    "# Perform binary search for maximum stable filter order before quantization\n",
    "lower = 8\n",
    "upper = 50\n",
    "while (upper - lower) > 1:\n",
    "    centr = (lower + upper) // 2\n",
    "    b, a = signal.butter(centr, F_C, btype=\"low\", fs=F_S)\n",
    "    if is_stable(b, a, quantize=False):\n",
    "        print(f\"Order {centr:>2}: stable\")\n",
    "        lower = centr\n",
    "    else:\n",
    "        print(f\"Order {centr:>2}: unstable\")\n",
    "        upper = centr\n",
    "max_stable_bfr = lower\n",
    "print(\"\\nMax. stable order before quantization:\", max_stable_bfr)"
   ]
  },
  {
   "cell_type": "code",
   "execution_count": null,
   "metadata": {},
   "outputs": [],
   "source": [
    "# Plot freqz, pole-zero and experimental plots\n",
    "b, a = signal.butter(max_stable_bfr, F_C, btype=\"low\", fs=F_S)\n",
    "w, h = signal.freqz(b, a, fs=F_S)\n",
    "plot_freqz(w, h, fname=f\"q8_{max_stable_bfr}th_freqz.png\")\n",
    "zplane(b, a, fname=f\"q8_{max_stable_bfr}th_zp.png\")\n",
    "test_filter(b, a, fname=f\"q8_{max_stable_bfr}th_stability.png\", \n",
    "    figsize=(9.6, 4))"
   ]
  },
  {
   "cell_type": "code",
   "execution_count": null,
   "metadata": {},
   "outputs": [],
   "source": [
    "b, a = signal.butter(max_stable_bfr+1, F_C, btype=\"low\", fs=F_S)\n",
    "w, h = signal.freqz(b, a, fs=F_S)\n",
    "plot_freqz(w, h, fname=f\"q8_{max_stable_bfr+1}th_freqz.png\")\n",
    "zplane(b, a, fname=f\"q8_{max_stable_bfr+1}th_zp.png\")\n",
    "test_filter(b, a, fname=f\"q8_{max_stable_bfr+1}th_stability.png\", \n",
    "    figsize=(9.6, 4))"
   ]
  },
  {
   "cell_type": "code",
   "execution_count": null,
   "metadata": {},
   "outputs": [],
   "source": [
    "# Repeat search for maximum stable filter order *after* quantization\n",
    "lower = 8\n",
    "upper = max_stable_bfr\n",
    "while (upper - lower) > 1:\n",
    "    centr = (lower + upper) // 2\n",
    "    b, a = signal.butter(centr, F_C, btype=\"low\", fs=F_S)\n",
    "    if is_stable(b, a, quantize=True):\n",
    "        print(f\"Order {centr:>2}: stable\")\n",
    "        lower = centr\n",
    "    else:\n",
    "        print(f\"Order {centr:>2}: unstable\")\n",
    "        upper = centr\n",
    "max_stable_aft = lower\n",
    "print(\"\\nMax. stable order after quantization:\", max_stable_aft)"
   ]
  },
  {
   "cell_type": "code",
   "execution_count": null,
   "metadata": {},
   "outputs": [],
   "source": [
    "# Plot freqz, pole-zero and experimental plots\n",
    "b, a = signal.butter(max_stable_aft, F_C, btype=\"low\", fs=F_S)\n",
    "bq, aq = tf_quantize(b, a)\n",
    "wq, hq = signal.freqz(bq, aq, fs=F_S)\n",
    "plot_freqz(w, h, fname=f\"q8_q{max_stable_aft}th_freqz.png\")\n",
    "zplane(bq, aq, fname=f\"q8_q{max_stable_aft}th_zp.png\")\n",
    "test_filter(bq, aq, fname=f\"q8_q{max_stable_aft}th_stability.png\", \n",
    "    figsize=(9.6, 4))"
   ]
  },
  {
   "cell_type": "code",
   "execution_count": null,
   "metadata": {},
   "outputs": [],
   "source": [
    "b, a = signal.butter(max_stable_aft+1, F_C, btype=\"low\", fs=F_S)\n",
    "bq, aq = tf_quantize(b, a)\n",
    "wq, hq = signal.freqz(bq, aq, fs=F_S)\n",
    "plot_freqz(w, h, fname=f\"q8_q{max_stable_aft+1}th_freqz.png\")\n",
    "zplane(bq, aq, fname=f\"q8_q{max_stable_aft+1}th_zp.png\")\n",
    "test_filter(bq, aq, fname=f\"q8_q{max_stable_aft+1}th_stability.png\", \n",
    "    figsize=(9.6, 4))"
   ]
  }
 ],
 "metadata": {
  "kernelspec": {
   "display_name": ".venv",
   "language": "python",
   "name": "python3"
  },
  "language_info": {
   "codemirror_mode": {
    "name": "ipython",
    "version": 3
   },
   "file_extension": ".py",
   "mimetype": "text/x-python",
   "name": "python",
   "nbconvert_exporter": "python",
   "pygments_lexer": "ipython3",
   "version": "3.10.12"
  },
  "orig_nbformat": 4
 },
 "nbformat": 4,
 "nbformat_minor": 2
}
