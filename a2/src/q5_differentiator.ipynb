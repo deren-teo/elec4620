{
 "cells": [
  {
   "cell_type": "markdown",
   "metadata": {},
   "source": [
    "# Question 5\n",
    "\n",
    "This script designs a Blackman-windowed differentiator filter and explores some of its properties."
   ]
  },
  {
   "cell_type": "code",
   "execution_count": null,
   "metadata": {},
   "outputs": [],
   "source": [
    "from pathlib import Path\n",
    "\n",
    "import matplotlib.pyplot as plt\n",
    "import numpy as np\n",
    "import seaborn as sns\n",
    "\n",
    "from a2_config import A2_ROOT, SAVEFIG_CONFIG"
   ]
  },
  {
   "cell_type": "code",
   "execution_count": null,
   "metadata": {},
   "outputs": [],
   "source": [
    "# Define filter specifications\n",
    "\n",
    "N_TAPS = 25         # number of filter taps\n",
    "F_SAMP = 50         # sampling frequency, kHz\n",
    "F_BAND = [0, 20]    # operating frequency range, kHz"
   ]
  },
  {
   "cell_type": "code",
   "execution_count": null,
   "metadata": {},
   "outputs": [],
   "source": [
    "import scipy.signal as signal\n",
    "\n",
    "def plot_impz(t, coeffs, fname=None):\n",
    "    fig, ax = plt.subplots(figsize=(6, 2))\n",
    "    fig.tight_layout()\n",
    "    plt.stem(t, coeffs, linefmt=\"C0\", basefmt=\"C0\")\n",
    "    # Axis labels\n",
    "    ax.set_xlabel(\"Time (ms)\")\n",
    "    ax.set_ylabel(\"Response\")\n",
    "    # Save or just short\n",
    "    if fname:\n",
    "        fig.savefig(Path(A2_ROOT, \"output\", fname), **SAVEFIG_CONFIG)\n",
    "    plt.show()\n",
    "\n",
    "# Define differentiator filter\n",
    "taps = signal.remez(N_TAPS, F_BAND, [1], type=\"differentiator\", fs=F_SAMP)\n",
    "\n",
    "t = np.arange(0, N_TAPS/F_SAMP, 1/F_SAMP)\n",
    "plot_impz(t, taps, fname=\"q5_diff_impz.png\")"
   ]
  },
  {
   "cell_type": "code",
   "execution_count": null,
   "metadata": {},
   "outputs": [],
   "source": [
    "from scipy.fft import fft, ifft\n",
    "from scipy.signal.windows import blackman\n",
    "\n",
    "# Helper function for converting frequency response to dB scale\n",
    "dB = lambda x: 20 * np.log10(x)\n",
    "\n",
    "def plot_freqz(w, h, fname=None):\n",
    "    \"\"\"Plot frequency response and overlay filter requirements.\"\"\"\n",
    "    fig, axs = plt.subplots(3, sharex=True, figsize=(6, 4))\n",
    "    fig.tight_layout()\n",
    "    sns.lineplot(x=w, y=np.abs(h), ax=axs[0], label=\"Realistic\")\n",
    "    sns.lineplot(x=w, y=0.02 * w, ax=axs[0], ls=\":\", label=\"Ideal\")\n",
    "    sns.lineplot(x=w, y=dB(np.abs(h)), ax=axs[1])\n",
    "    sns.lineplot(x=w, y=np.angle(h), ax=axs[2])\n",
    "    # Axis labels\n",
    "    axs[0].set_ylabel(\"Gain\")\n",
    "    axs[0].legend(framealpha=1)\n",
    "    axs[1].set_ylabel(\"Gain (dB)\")\n",
    "    axs[2].set_xlabel(\"Frequency (kHz)\")\n",
    "    axs[2].set_ylabel(\"Phase (rad)\")\n",
    "    axs[2].set_yticks([-np.pi, 0, np.pi])\n",
    "    axs[2].set_yticklabels([\"$-\\pi$\", \"0\", \"$\\pi$\"])\n",
    "    # Save or just show\n",
    "    if fname:\n",
    "        fig.savefig(Path(A2_ROOT, \"output\", fname), **SAVEFIG_CONFIG)\n",
    "    plt.show()\n",
    "\n",
    "# Apply Blackman window\n",
    "h_blackman = taps * blackman(N_TAPS)\n",
    "f, H_blackman = signal.freqz(h_blackman, [1], fs=F_SAMP)\n",
    "plot_freqz(f, H_blackman, fname=\"q5_diff_freqz.png\")"
   ]
  },
  {
   "cell_type": "code",
   "execution_count": null,
   "metadata": {},
   "outputs": [],
   "source": [
    "# Generate sample \"continuous\" functions to test the differentiator filter\n",
    "t = np.linspace(0, 1, 512, endpoint=False)\n",
    "t_tri = signal.sawtooth(2 * np.pi * 5 * t)\n",
    "t_sqr = signal.square(2 * np.pi * 5 * t)\n",
    "t_sin = np.sin(2 * np.pi * 5 * t)\n",
    "\n",
    "# Apply the differentiator filter\n",
    "filt_tri = ifft(fft(t_tri) * H_blackman)\n",
    "filt_sqr = ifft(fft(t_sqr) * H_blackman)\n",
    "filt_sin = ifft(fft(t_sin) * H_blackman)\n",
    "\n",
    "# Plot unfiltered and filtered comparison\n",
    "normalise = lambda arr: arr.real / max(np.abs(arr.real))\n",
    "fig, axs = plt.subplots(3, sharex=True, figsize=(6, 4))\n",
    "fig.tight_layout()\n",
    "axs[0].plot(t, t_tri, label=\"Triangle Wave\")\n",
    "axs[0].plot(t, normalise(filt_tri), label=\"Norm. Deriv.\")\n",
    "axs[1].plot(t, t_sqr, label=\"Square Wave\")\n",
    "axs[1].plot(t, normalise(filt_sqr), label=\"Norm. Deriv.\")\n",
    "axs[2].plot(t, t_sin, label=\"Sine Wave\")\n",
    "axs[2].plot(t, normalise(filt_sin), label=\"Norm. Deriv.\")\n",
    "# Axis labels\n",
    "axs[2].set_xlabel(\"Time (ms)\")\n",
    "axs[1].set_ylabel(\"Normalised Response\")\n",
    "axs[0].legend(loc=\"upper right\", framealpha=1)\n",
    "axs[1].legend(loc=\"upper right\", framealpha=1)\n",
    "axs[2].legend(loc=\"upper right\", framealpha=1)\n",
    "\n",
    "fname = Path(A2_ROOT, \"output\", \"q5_diff_applied.png\")\n",
    "fig.savefig(fname, **SAVEFIG_CONFIG)"
   ]
  }
 ],
 "metadata": {
  "kernelspec": {
   "display_name": ".venv",
   "language": "python",
   "name": "python3"
  },
  "language_info": {
   "codemirror_mode": {
    "name": "ipython",
    "version": 3
   },
   "file_extension": ".py",
   "mimetype": "text/x-python",
   "name": "python",
   "nbconvert_exporter": "python",
   "pygments_lexer": "ipython3",
   "version": "3.11.1"
  },
  "orig_nbformat": 4
 },
 "nbformat": 4,
 "nbformat_minor": 2
}
