{
 "cells": [
  {
   "cell_type": "markdown",
   "metadata": {},
   "source": [
    "# Question 6\n",
    "\n",
    "This script starts uses the impulse response of a low pass FIR filter designed using the Parks-McClellan method to infer various features of the filter."
   ]
  },
  {
   "cell_type": "code",
   "execution_count": null,
   "metadata": {},
   "outputs": [],
   "source": [
    "import numpy as np\n",
    "\n",
    "# Define the positive half of the impulse response: h[0] to h[3]\n",
    "h = np.array([0.4983, 0.3696, 0.1201, -0.1294])\n",
    "\n",
    "# Coefficients of H(x) (ref. working in assignment)\n",
    "Hx_coef = [h[0] - 2 * h[2], 2 * (h[1] - 3 * h[3]), 4 * h[2], 8 * h[3]]\n",
    "print(f\" H(x) = {Hx_coef[3]}x^3 + {Hx_coef[2]}x^2 + {Hx_coef[1]}x + {Hx_coef[0]}\")\n",
    "\n",
    "# Coefficients of dH(x)\n",
    "dHx_coef = [i * b for i, b in enumerate(Hx_coef)][1:]\n",
    "print(f\"dH(x) = {dHx_coef[2]}x^2 + {dHx_coef[1]}x + {dHx_coef[0]}\")"
   ]
  },
  {
   "cell_type": "code",
   "execution_count": null,
   "metadata": {},
   "outputs": [],
   "source": [
    "from numpy.polynomial.polynomial import Polynomial\n",
    "\n",
    "# Define the polynomials H(x) and dH(x)\n",
    "Hx = Polynomial(Hx_coef)\n",
    "dHx = Polynomial(dHx_coef)\n",
    "\n",
    "# Roots of dH(x) are the extrema of H(x)\n",
    "x_extrema = dHx.roots()\n",
    "print(f\"Extrema of H(x): x = {x_extrema[0]:8.5f}, {x_extrema[1]:8.5f}\")\n",
    "\n",
    "# Convert extrema of H(x) to extrema of H(w); x = cos(w)\n",
    "w_extrema = np.arccos(x_extrema)\n",
    "print(f\"Extrema of H(w): w = {w_extrema[0]:8.5f}, {w_extrema[1]:8.5f} (rad)\")"
   ]
  },
  {
   "cell_type": "code",
   "execution_count": null,
   "metadata": {},
   "outputs": [],
   "source": [
    "# Helper function for converting frequency response to dB scale\n",
    "dB = lambda x: 20 * np.log10(x)\n",
    "\n",
    "# Calculate pass and stop band ripple magnitudes\n",
    "H_min, H_max= Hx(x_extrema)\n",
    "delta_p =  H_max - 1\n",
    "delta_s = -H_min\n",
    "print(f\"Pass band ripple: {delta_p:.5f} or {dB(delta_p):.5f} (dB)\")\n",
    "print(f\"Stop band ripple: {delta_s:.5f} or {dB(delta_s):.5f} (dB)\")"
   ]
  },
  {
   "cell_type": "code",
   "execution_count": null,
   "metadata": {},
   "outputs": [],
   "source": [
    "# Calculate cutoff frequency: \n",
    "#     x_c such that H(x_c) = 1 - delta_p => 0 = H(x_c) - (1 - delta_p)\n",
    "x_c = Polynomial([Hx_coef[0] - (1 - delta_p)] + Hx_coef[1:]).roots()\n",
    "print(\"Possible x_c:\", \", \".join(f\"{x:.5f}\" for x in x_c))\n",
    "\n",
    "# Calculate stopband frequency: \n",
    "#     x_s such that H(x_s) = delta_s => 0 = H(x_s) - delta_s\n",
    "x_s = Polynomial([Hx_coef[0] - delta_s] + Hx_coef[1:]).roots()\n",
    "print(\"Possible x_s:\", \", \".join(f\"{x:.5f}\" for x in x_s), \"\\n\")\n",
    "\n",
    "# x_c and x_s must be between the extrema, which limits both to only 1 option\n",
    "x_c, = [x for x in x_c if x_extrema[0] < x < x_extrema[1]]\n",
    "x_s, = [x for x in x_s if x_extrema[0] < x < x_extrema[1]]\n",
    "w_c = np.arccos(x_c)\n",
    "w_s = np.arccos(x_s)\n",
    "print(f\"x_c = {x_c:.5f} => w_c = {w_c:.5f} (rad)\")\n",
    "print(f\"x_s = {x_s:.5f} => w_c = {w_s:.5f} (rad)\")"
   ]
  },
  {
   "cell_type": "code",
   "execution_count": null,
   "metadata": {},
   "outputs": [],
   "source": [
    "from pathlib import Path\n",
    "\n",
    "import matplotlib.pyplot as plt\n",
    "import seaborn as sns\n",
    "\n",
    "from a2_config import A2_ROOT, SAVEFIG_CONFIG\n",
    "\n",
    "# Plot the filter in cos(w) and overlay the identified features\n",
    "w = np.linspace(0, np.pi, 1024, endpoint=False)\n",
    "H = lambda w: Hx_coef[3] * np.power(np.cos(w), 3) + \\\n",
    "              Hx_coef[2] * np.square(np.cos(w)) + \\\n",
    "              Hx_coef[1] * np.cos(w) + \\\n",
    "              Hx_coef[0]\n",
    "\n",
    "fig, ax = plt.subplots(figsize=(6, 4))\n",
    "fig.tight_layout()\n",
    "\n",
    "# Frequency response\n",
    "sns.lineplot(x=w, y=H(w), ax=ax, label=\"$H(\\omega)$\")\n",
    "# Extrema\n",
    "ax.axvline(0,            c=\"k\", lw=0.5, ls=\"-\", label=\"Extrema\")\n",
    "ax.axvline(w_extrema[1], c=\"k\", lw=0.5, ls=\"-\")\n",
    "ax.axvline(w_extrema[0], c=\"k\", lw=0.5, ls=\"-\")\n",
    "ax.axvline(np.pi,        c=\"k\", lw=0.5, ls=\"-\")\n",
    "# Cutoff and stopband frequencies\n",
    "ax.axvline(w_c,          c=\"g\", lw=0.5, ls=\"-.\", label=\"Cutoff/Stopband\")\n",
    "ax.axvline(w_s,          c=\"g\", lw=0.5, ls=\"-.\")\n",
    "# Pass and stop band ripples\n",
    "ax.axhline(1 + delta_p,  c=\"r\", lw=0.5, ls=\"--\", label=\"Pass band ripple\")\n",
    "ax.axhline(1 - delta_p,  c=\"r\", lw=0.5, ls=\"--\")\n",
    "ax.axhline(0 + delta_s,  c=\"b\", lw=0.5, ls=\"--\", label=\"Stop band ripple\")\n",
    "ax.axhline(0 - delta_s,  c=\"b\", lw=0.5, ls=\"--\")\n",
    "# Axis labels\n",
    "ax.set_xlabel(\"Frequency (rad)\")\n",
    "ax.set_ylabel(\"Gain\")\n",
    "ax.legend(loc=\"lower left\", framealpha=1)\n",
    "\n",
    "fname = Path(A2_ROOT, \"output\", \"q6_plot_everything.png\")\n",
    "fig.savefig(fname, **SAVEFIG_CONFIG)"
   ]
  }
 ],
 "metadata": {
  "kernelspec": {
   "display_name": ".venv",
   "language": "python",
   "name": "python3"
  },
  "language_info": {
   "codemirror_mode": {
    "name": "ipython",
    "version": 3
   },
   "file_extension": ".py",
   "mimetype": "text/x-python",
   "name": "python",
   "nbconvert_exporter": "python",
   "pygments_lexer": "ipython3",
   "version": "3.11.1"
  },
  "orig_nbformat": 4
 },
 "nbformat": 4,
 "nbformat_minor": 2
}
